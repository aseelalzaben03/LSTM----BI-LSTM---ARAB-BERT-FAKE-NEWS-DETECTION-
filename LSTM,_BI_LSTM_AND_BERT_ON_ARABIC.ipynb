{
  "cells": [
    {
      "cell_type": "markdown",
      "metadata": {
        "id": "view-in-github",
        "colab_type": "text"
      },
      "source": [
        "<a href=\"https://colab.research.google.com/github/aseelalzaben03/LSTM----BI-LSTM---ARAB-BERT-FAKE-NEWS-DETECTION-/blob/main/LSTM%2C_BI_LSTM_AND_BERT_ON_ARABIC.ipynb\" target=\"_parent\"><img src=\"https://colab.research.google.com/assets/colab-badge.svg\" alt=\"Open In Colab\"/></a>"
      ]
    },
    {
      "cell_type": "code",
      "execution_count": null,
      "metadata": {
        "id": "92cNPKbjz65z"
      },
      "outputs": [],
      "source": [
        "# Code from here\n",
        "#https://www.kaggle.com/code/shyakanobledavid/lstm-bi-lstm-and-bert-on-arabic"
      ]
    },
    {
      "cell_type": "code",
      "execution_count": null,
      "metadata": {
        "id": "kvBW5fFS0K_b"
      },
      "outputs": [],
      "source": [
        "import pandas as pd # Load data into a dataframe\n",
        "import numpy as np\n",
        "from sklearn.preprocessing import LabelEncoder # Used to fill Missing Values\n",
        "from sklearn.model_selection import train_test_split\n"
      ]
    },
    {
      "cell_type": "code",
      "execution_count": null,
      "metadata": {
        "id": "3hKCZLFN0BzJ"
      },
      "outputs": [],
      "source": [
        "\n",
        "# TEXT PREPROCESSING\n",
        "import nltk # Text Preprocessing\n",
        "import re # Regular Expressions\n",
        "from nltk.corpus import stopwords # Removes stop words from text\n",
        "from snowballstemmer import stemmer# Word\n",
        "from joblib import Parallel, delayed # Optimizes prepropcessing code"
      ]
    },
    {
      "cell_type": "code",
      "execution_count": null,
      "metadata": {
        "id": "Np2UmPCF0W0N"
      },
      "outputs": [],
      "source": [
        "# Model Construction\n",
        "import tensorflow as tf\n",
        "from tensorflow import keras # Build Neural Network\n",
        "from tensorflow.keras.preprocessing.text import Tokenizer # Tokenizes text and creates sequences from them\n",
        "from tensorflow.keras.preprocessing.sequence import pad_sequences # Adds padding to sequences\n",
        "from transformers import BertTokenizer, TFBertModel\n",
        "from keras.callbacks import EarlyStopping, ReduceLROnPlateau # Model optimization\n",
        "from tensorflow.keras.regularizers import l2 #Regularization\n",
        "import joblib # Save model\n",
        "from transformers import BertTokenizer, TFBertModel # Bert tokenizer and Model"
      ]
    },
    {
      "cell_type": "code",
      "execution_count": null,
      "metadata": {
        "id": "hjZRh1l60OBd"
      },
      "outputs": [],
      "source": [
        "\n",
        "\n",
        "\n",
        "# Evaluation Metrics\n",
        "from sklearn.metrics import precision_score, recall_score, f1_score, accuracy_score,classification_report\n",
        "import matplotlib.pyplot as plt\n",
        "import seaborn as sns\n",
        "from sklearn.metrics import confusion_matrix\n",
        "from imblearn.over_sampling import RandomOverSampler\n",
        "from sklearn.utils import class_weight\n",
        "\n",
        "# Surpress warnings\n",
        "import warnings"
      ]
    },
    {
      "cell_type": "code",
      "execution_count": null,
      "metadata": {
        "id": "WbBdb6XE0YcY"
      },
      "outputs": [],
      "source": [
        "#Surpress warnings\n",
        "warnings.filterwarnings(\"ignore\")"
      ]
    },
    {
      "cell_type": "code",
      "execution_count": null,
      "metadata": {
        "colab": {
          "base_uri": "https://localhost:8080/",
          "height": 206
        },
        "id": "rudCiHkK0b1c",
        "outputId": "366547f2-0165-4b34-9196-88d7fcad3a4d"
      },
      "outputs": [
        {
          "data": {
            "application/vnd.google.colaboratory.intrinsic+json": {
              "summary": "{\n  \"name\": \"data\",\n  \"rows\": 21720,\n  \"fields\": [\n    {\n      \"column\": \"Unnamed: 0\",\n      \"properties\": {\n        \"dtype\": \"number\",\n        \"std\": 6270,\n        \"min\": 0,\n        \"max\": 21719,\n        \"num_unique_values\": 21720,\n        \"samples\": [\n          7755,\n          1398,\n          17533\n        ],\n        \"semantic_type\": \"\",\n        \"description\": \"\"\n      }\n    },\n    {\n      \"column\": \"is_fake\",\n      \"properties\": {\n        \"dtype\": \"number\",\n        \"std\": 0,\n        \"min\": 0,\n        \"max\": 1,\n        \"num_unique_values\": 2,\n        \"samples\": [\n          0,\n          1\n        ],\n        \"semantic_type\": \"\",\n        \"description\": \"\"\n      }\n    },\n    {\n      \"column\": \"news\",\n      \"properties\": {\n        \"dtype\": \"string\",\n        \"num_unique_values\": 12100,\n        \"samples\": [\n          \"\\u0623\\u062c\\u0628\\u0631\\u062a \\u0645\\u062d\\u0643\\u0645\\u0629\\u064f \\u0627\\u0644\\u0627\\u062d\\u062a\\u0644\\u0627\\u0644 \\u0639\\u0627\\u0626\\u0644\\u0629\\u064e \\u0627\\u0644\\u0631\\u062c\\u0628\\u064a \\u0639\\u0644\\u0649 \\u0625\\u062e\\u0644\\u0627\\u0621 \\u0628\\u0646\\u0627\\u064a\\u0629 \\u0633\\u0643\\u0646\\u064a\\u0629 \\u0641\\u064a \\u0636\\u0627\\u062d\\u064a\\u0629 \\u0633\\u0644\\u0648\\u0627\\u0646 \\u062c\\u0646\\u0648\\u0628\\n\\u0645\\u062f\\u064a\\u0646\\u0629 \\u0627\\u0644\\u0642\\u062f\\u0633 \\u0627\\u0644\\u0645\\u062d\\u062a\\u0644\\u0629\\u060c \\u0643\\u0645\\u0627 \\u0635\\u062f\\u0642\\u062a \\u0627\\u0644\\u0645\\u062d\\u0643\\u0645\\u0629 \\u0646\\u0641\\u0633\\u0647\\u0627 \\u0639\\u0644\\u0649 \\u0642\\u0631\\u0627\\u0631 \\u0628\\u0647\\u062f\\u0645 \\u0623\\u0631\\u0628\\u0639 \\u0645\\u0646\\u0634\\u0622\\u062a \\u0633\\u0643\\u0646\\u064a\\u0629 \\u0641\\u064a\\n\\u062d\\u064a \\\"\\u0648\\u0627\\u062f\\u064a \\u0627\\u0644\\u062d\\u0645\\u0635\\\" \\u0628\\u0642\\u0631\\u064a\\u0629 \\u0635\\u0648\\u0631 \\u0628\\u0627\\u0647\\u0631 \\u062c\\u0646\\u0648\\u0628 \\u0627\\u0644\\u0645\\u062f\\u064a\\u0646\\u0629 \\u0627\\u0644\\u0645\\u0642\\u062f\\u0633\\u0629. \\u0648\\u062c\\u0627\\u0621 \\u0627\\u0644\\u0642\\u0631\\u0627\\u0631 \\u0627\\u0644\\u0623\\u0648\\u0644 \\u062a\\u0644\\u0628\\u064a\\u0629\\n\\u0644\\u062f\\u0639\\u0648\\u0649 \\u0631\\u0641\\u0639\\u062a\\u0647\\u0627 \\u062c\\u0645\\u0639\\u064a\\u0629 \\\"\\u0639\\u0637\\u064a\\u0631\\u062a \\u0643\\u0648\\u0647\\u0646\\u064a\\u0645\\\" \\u0627\\u0644\\u0627\\u0633\\u062a\\u064a\\u0637\\u0627\\u0646\\u064a\\u0629 \\u0639\\u0627\\u0645 2016 \\u0645\\u062f\\u0639\\u064a\\u0629 \\u0645\\u0644\\u0643\\u064a\\u062a\\u0647\\u0627 \\u0644\\u0644\\u0639\\u0642\\u0627\\u0631\\u060c\\n\\u0648\\u064a\\u0630\\u0643\\u0631 \\u0645\\u0631\\u0643\\u0632 \\u0645\\u0639\\u0644\\u0648\\u0645\\u0627\\u062a \\\"\\u0648\\u0627\\u062f\\u064a \\u062d\\u0644\\u0648\\u0629\\\" \\u0641\\u064a \\u0633\\u0644\\u0648\\u0627\\u0646 \\u0623\\u0646 \\u0623\\u0635\\u062d\\u0627\\u0628 \\u0627\\u0644\\u0645\\u0628\\u0646\\u0649 \\u064a\\u0639\\u064a\\u0634\\u0648\\u0646 \\u0641\\u064a\\u0647 \\u0645\\u0646\\u0630 \\u0639\\u0634\\u0631\\u0627\\u062a\\n\\u0627\\u0644\\u0633\\u0646\\u064a\\u0646 \\u0628\\u0639\\u062f \\u0634\\u0631\\u0627\\u0626\\u0647\\u0645 \\u0627\\u0644\\u0623\\u0631\\u0636 \\u0648\\u0627\\u0644\\u0639\\u0642\\u0627\\u0631 \\u0645\\u0646 \\u0623\\u0635\\u062d\\u0627\\u0628\\u0647\\u0627 \\u0627\\u0644\\u0633\\u0627\\u0628\\u0642\\u064a\\u0646 \\u0628\\u0623\\u0648\\u0631\\u0627\\u0642 \\u0631\\u0633\\u0645\\u064a\\u0629. \\u0648\\u0643\\u0627\\u0646\\u062a\\n\\u0627\\u0644\\u062c\\u0645\\u0639\\u064a\\u0629 \\u0627\\u0644\\u0627\\u0633\\u062a\\u064a\\u0637\\u0627\\u0646\\u064a\\u0629 \\u0642\\u062f \\u0627\\u062f\\u0639\\u062a \\u062d\\u0642 \\u0625\\u062f\\u0627\\u0631\\u0629 \\u0627\\u0644\\u0639\\u0642\\u0627\\u0631 \\u0648\\u0645\\u0644\\u0643\\u064a\\u062a\\u0647\\u0627 \\u0644\\u0644\\u0623\\u0631\\u0636 \\u0645\\u0646\\u0630 \\u0639\\u0627\\u0645 2001\\u060c \\u0648\\u0628\\u062f\\u0623\\u062a\\n\\u0628\\u0645\\u0644\\u0627\\u062d\\u0642\\u0629 \\u0627\\u0644\\u0645\\u0648\\u0627\\u0637\\u0646\\u064a\\u0646 \\u0641\\u064a \\u0627\\u0644\\u0645\\u062d\\u0627\\u0643\\u0645 \\u0627\\u0644\\u0625\\u0633\\u0631\\u0627\\u0626\\u064a\\u0644\\u064a\\u0629\\u060c \\u0645\\u0648\\u062c\\u0647\\u0629 \\u0628\\u0644\\u0627\\u063a\\u0627\\u062a \\u0642\\u0636\\u0627\\u0626\\u064a\\u0629 \\u0648\\u062a\\u0647\\u062f\\u064a\\u062f\\u0627\\u062a\\n\\u0628\\u0627\\u0644\\u0625\\u062e\\u0644\\u0627\\u0621 \\u0644\\u0640 84 \\u0639\\u0627\\u0626\\u0644\\u0629 \\u0641\\u0644\\u0633\\u0637\\u064a\\u0646\\u064a\\u0629. \\u064a\\u0638\\u0647\\u0631 \\u0641\\u064a \\u0627\\u0644\\u0635\\u0648\\u0631\\u0629 \\u0645\\u0646\\u0632\\u0644 \\u0639\\u0627\\u0626\\u0644\\u0629 \\u0627\\u0644\\u0631\\u062c\\u0628\\u064a \\u0628\\u0627\\u0644\\u0623\\u062d\\u0645\\u0631.\\n\\u0648\\u0628\\u0627\\u0644\\u0623\\u0635\\u0641\\u0631 \\u0627\\u0644\\u0645\\u0646\\u0627\\u0632\\u0644 \\u0627\\u0644\\u0625\\u0636\\u0627\\u0641\\u064a\\u0629 \\u0627\\u0644\\u062a\\u064a \\u062a\\u0637\\u0627\\u0644\\u0628 \\\"\\u0639\\u0637\\u064a\\u0631\\u062a \\u0643\\u0648\\u0647\\u0646\\u064a\\u0645\\\" \\u0627\\u0644\\u0627\\u0633\\u062a\\u064a\\u0637\\u0627\\u0646\\u064a\\u0629 \\u0628\\u0625\\u062e\\u0644\\u0627\\u0626\\u0647\\u0627.\\nhttps://t.co/UMHW58uOGc \\u2014 Ultra Palestine - \\u0627\\u0644\\u062a\\u0631\\u0627 \\u0641\\u0644\\u0633\\u0637\\u064a\\u0646 (@palestineultra)\\nJanuary 20, 2020 \\u0648\\u062a\\u0642\\u0639 \\u0628\\u0646\\u0627\\u064a\\u0629 \\u0639\\u0627\\u0626\\u0644\\u0629 \\u0627\\u0644\\u0631\\u062c\\u0628\\u064a \\u0639\\u0644\\u0649 \\u0642\\u0637\\u0639\\u0629 \\u0623\\u0631\\u0636 \\u062a\\u0635\\u0644 \\u0645\\u0633\\u0627\\u062d\\u062a\\u0647\\u0627 \\u0625\\u0644\\u0649 \\u0646\\u062d\\u0648 \\u062e\\u0645\\u0633\\u0629\\n\\u062f\\u0648\\u0646\\u0645\\u0627\\u062a (5000 \\u0645\\u062a\\u0631 \\u0645\\u0631\\u0628\\u0639) \\u0648\\u0633\\u0637 \\u062d\\u064a \\u0628\\u0637\\u0646 \\u0627\\u0644\\u0647\\u0648\\u0649 \\u0641\\u064a \\u0633\\u0644\\u0648\\u0627\\u0646\\u060c \\u0648\\u064a\\u062f\\u0639\\u064a \\u0627\\u0644\\u0627\\u062d\\u062a\\u0644\\u0627\\u0644 \\u0623\\u0646 \\u0645\\u0644\\u0643\\u064a\\u062a\\u0647\\u0627\\n\\u062a\\u0639\\u0648\\u062f \\u0644\\u064a\\u0647\\u0648\\u062f \\u0627\\u0644\\u064a\\u0645\\u0646 \\u0645\\u0646\\u0630 \\u0639\\u0627\\u0645 1881. \\u062d\\u0641\\u0631\\u064a\\u0627\\u062a \\u0627\\u0644\\u0627\\u0633\\u062a\\u064a\\u0637\\u0627\\u0646\\u0645\\u0646 \\u062c\\u0627\\u0646\\u0628 \\u0622\\u062e\\u0631\\u060c \\u0623\\u062e\\u0637\\u0631\\u062a \\u0633\\u0644\\u0637\\u0627\\u062a\\n\\u0627\\u0644\\u0627\\u062d\\u062a\\u0644\\u0627\\u0644 \\u0623\\u0635\\u062d\\u0627\\u0628 \\u0633\\u0628\\u0639\\u0629 \\u0645\\u0646\\u0627\\u0632\\u0644 \\u0628\\u0627\\u0644\\u0628\\u0644\\u062f\\u0629 \\u0627\\u0644\\u0642\\u062f\\u064a\\u0645\\u0629 \\u0641\\u064a \\u0627\\u0644\\u0642\\u062f\\u0633 \\u0628\\u0625\\u062e\\u0644\\u0627\\u0626\\u0647\\u0627 \\u062c\\u0631\\u0627\\u0621 \\u062a\\u0634\\u0642\\u0642\\u0647\\u0627 \\u0628\\u0641\\u0639\\u0644\\n\\u0627\\u0644\\u062d\\u0641\\u0631\\u064a\\u0627\\u062a \\u0627\\u0644\\u0627\\u0633\\u062a\\u064a\\u0637\\u0627\\u0646\\u064a\\u0629 \\u0623\\u0633\\u0641\\u0644\\u0647\\u0627. \\u0648\\u0643\\u0627\\u0646 \\u0645\\u062d\\u0627\\u0641\\u0638 \\u0627\\u0644\\u0642\\u062f\\u0633 \\u0639\\u062f\\u0646\\u0627\\u0646 \\u063a\\u064a\\u062b \\u0642\\u062f \\u0623\\u0641\\u0627\\u062f \\u0628\\u0623\\u0646 \\u0627\\u0644\\u0627\\u0646\\u0647\\u064a\\u0627\\u0631\\u0627\\u062a\\n\\u062d\\u062f\\u062b\\u062a \\u0641\\u064a \\u0645\\u0628\\u0627\\u0646\\u064a \\\"\\u0628\\u0627\\u0628 \\u0627\\u0644\\u0633\\u0644\\u0633\\u0644\\u0629\\\" \\u0646\\u062a\\u064a\\u062c\\u0629 \\u0623\\u0639\\u0645\\u0627\\u0644 \\u062d\\u0641\\u0631 \\u0648\\u062a\\u062e\\u0631\\u064a\\u0628 \\u062a\\u0642\\u0648\\u0645 \\u0628\\u0647\\u0627 \\u062c\\u0645\\u0639\\u064a\\u0627\\u062a \\u0627\\u0633\\u062a\\u064a\\u0637\\u0627\\u0646\\u064a\\u0629\\n\\u0628\\u062f\\u0639\\u0645 \\u0648\\u062d\\u0645\\u0627\\u064a\\u0629 \\u062d\\u0643\\u0648\\u0645\\u0629 \\u0627\\u0644\\u0627\\u062d\\u062a\\u0644\\u0627\\u0644 \\u0641\\u064a \\u0625\\u0637\\u0627\\u0631 \\u0645\\u0634\\u0631\\u0648\\u0639\\u0647\\u0627 \\u0644\\u062a\\u0647\\u0648\\u064a\\u062f \\u0627\\u0644\\u0645\\u062f\\u064a\\u0646\\u0629 \\u0648\\u062a\\u0647\\u062c\\u064a\\u0631 \\u0623\\u0647\\u0644\\u0647\\u0627. \\u0648\\u0646\\u0642\\u0644\\u062a\\n\\u0635\\u062d\\u064a\\u0641\\u0629 \\\"\\u0627\\u0644\\u0642\\u062f\\u0633\\\" \\u0639\\u0646 \\u0623\\u062d\\u062f \\u0633\\u0643\\u0627\\u0646 \\\"\\u0628\\u0627\\u0628 \\u0627\\u0644\\u0633\\u0644\\u0633\\u0644\\u0629\\\" \\u0623\\u0646 \\u0647\\u0646\\u0627\\u0643 \\u0646\\u062d\\u0648 22 \\u0639\\u0627\\u0626\\u0644\\u0629 \\u0641\\u064a \\u0627\\u0644\\u062d\\u064a \\u0645\\u0647\\u062f\\u062f\\u0629\\n\\u0628\\u0627\\u0644\\u0625\\u062e\\u0644\\u0627\\u0621\\u060c \\u0648\\u064a\\u0648\\u0627\\u062c\\u0647 \\u0646\\u062d\\u0648 \\u0645\\u0626\\u062a\\u064a\\u0646 \\u0645\\u0646 \\u0633\\u0643\\u0627\\u0646 \\u0627\\u0644\\u0645\\u0646\\u0637\\u0642\\u0629 \\u0627\\u0644\\u0645\\u062c\\u0627\\u0648\\u0631\\u0629 \\u0644\\u0644\\u0645\\u0633\\u062c\\u062f \\u0627\\u0644\\u0623\\u0642\\u0635\\u0649 \\u062e\\u0637\\u0631 \\u0627\\u0644\\u0625\\u062e\\u0644\\u0627\\u0621\\n\\u0628\\u0633\\u0628\\u0628 \\u062d\\u0641\\u0631\\u064a\\u0627\\u062a \\u0627\\u0644\\u0627\\u062d\\u062a\\u0644\\u0627\\u0644 \\u0648\\u0623\\u0646\\u0634\\u0637\\u062a\\u0647 \\u0627\\u0644\\u0627\\u0633\\u062a\\u064a\\u0637\\u0627\\u0646\\u064a\\u0629.\\n\\n\",\n          \"\\u064a\\u0645\\u064a\\u0646\\u0629 \\u0627\\u0644\\u0632\\u063a\\u0644\\u0627\\u0645\\u064a \\u062a\\u0646\\u0641\\u064a \\u062a\\u062e\\u0648\\u064a\\u0646\\u0647\\u0627 \\u0643\\u0644 \\u0645\\u0646 \\u0644\\u0627 \\u064a\\u0634\\u0627\\u0631\\u0643 \\u0641\\u064a \\u0627\\u0644\\u0645\\u0638\\u0627\\u0647\\u0631\\u0627\\u062a \\u0627\\u0644\\u0645\\u0646\\u0627\\u0647\\u0636\\u0629 \\u0644\\u0642\\u064a\\u0633 \\u0633\\u0639\\u064a\\u062f\"\n        ],\n        \"semantic_type\": \"\",\n        \"description\": \"\"\n      }\n    }\n  ]\n}",
              "type": "dataframe",
              "variable_name": "data"
            },
            "text/html": [
              "\n",
              "  <div id=\"df-53fd8208-1f6c-4023-b3f4-f6f0f8f32154\" class=\"colab-df-container\">\n",
              "    <div>\n",
              "<style scoped>\n",
              "    .dataframe tbody tr th:only-of-type {\n",
              "        vertical-align: middle;\n",
              "    }\n",
              "\n",
              "    .dataframe tbody tr th {\n",
              "        vertical-align: top;\n",
              "    }\n",
              "\n",
              "    .dataframe thead th {\n",
              "        text-align: right;\n",
              "    }\n",
              "</style>\n",
              "<table border=\"1\" class=\"dataframe\">\n",
              "  <thead>\n",
              "    <tr style=\"text-align: right;\">\n",
              "      <th></th>\n",
              "      <th>Unnamed: 0</th>\n",
              "      <th>is_fake</th>\n",
              "      <th>news</th>\n",
              "    </tr>\n",
              "  </thead>\n",
              "  <tbody>\n",
              "    <tr>\n",
              "      <th>0</th>\n",
              "      <td>0</td>\n",
              "      <td>1</td>\n",
              "      <td>قصة النافذة التي لا تُفتح إلا عندما يتوّج نابو...</td>\n",
              "    </tr>\n",
              "    <tr>\n",
              "      <th>1</th>\n",
              "      <td>1</td>\n",
              "      <td>1</td>\n",
              "      <td>سلطنة عمان لم تعلن إغلاق المجال الجويّ أمام طا...</td>\n",
              "    </tr>\n",
              "    <tr>\n",
              "      <th>2</th>\n",
              "      <td>2</td>\n",
              "      <td>0</td>\n",
              "      <td>تنصح مجلة التكنولوجيا الألمانية \"سي.تي\" (c't) ...</td>\n",
              "    </tr>\n",
              "    <tr>\n",
              "      <th>3</th>\n",
              "      <td>3</td>\n",
              "      <td>0</td>\n",
              "      <td>كشفت شركة سامسونغ أخيرا عن مشروعها المنتظر \"ني...</td>\n",
              "    </tr>\n",
              "    <tr>\n",
              "      <th>4</th>\n",
              "      <td>4</td>\n",
              "      <td>0</td>\n",
              "      <td>ودع باريس سان جيرمان الفرنسي بطولة دوري أبطال ...</td>\n",
              "    </tr>\n",
              "  </tbody>\n",
              "</table>\n",
              "</div>\n",
              "    <div class=\"colab-df-buttons\">\n",
              "\n",
              "  <div class=\"colab-df-container\">\n",
              "    <button class=\"colab-df-convert\" onclick=\"convertToInteractive('df-53fd8208-1f6c-4023-b3f4-f6f0f8f32154')\"\n",
              "            title=\"Convert this dataframe to an interactive table.\"\n",
              "            style=\"display:none;\">\n",
              "\n",
              "  <svg xmlns=\"http://www.w3.org/2000/svg\" height=\"24px\" viewBox=\"0 -960 960 960\">\n",
              "    <path d=\"M120-120v-720h720v720H120Zm60-500h600v-160H180v160Zm220 220h160v-160H400v160Zm0 220h160v-160H400v160ZM180-400h160v-160H180v160Zm440 0h160v-160H620v160ZM180-180h160v-160H180v160Zm440 0h160v-160H620v160Z\"/>\n",
              "  </svg>\n",
              "    </button>\n",
              "\n",
              "  <style>\n",
              "    .colab-df-container {\n",
              "      display:flex;\n",
              "      gap: 12px;\n",
              "    }\n",
              "\n",
              "    .colab-df-convert {\n",
              "      background-color: #E8F0FE;\n",
              "      border: none;\n",
              "      border-radius: 50%;\n",
              "      cursor: pointer;\n",
              "      display: none;\n",
              "      fill: #1967D2;\n",
              "      height: 32px;\n",
              "      padding: 0 0 0 0;\n",
              "      width: 32px;\n",
              "    }\n",
              "\n",
              "    .colab-df-convert:hover {\n",
              "      background-color: #E2EBFA;\n",
              "      box-shadow: 0px 1px 2px rgba(60, 64, 67, 0.3), 0px 1px 3px 1px rgba(60, 64, 67, 0.15);\n",
              "      fill: #174EA6;\n",
              "    }\n",
              "\n",
              "    .colab-df-buttons div {\n",
              "      margin-bottom: 4px;\n",
              "    }\n",
              "\n",
              "    [theme=dark] .colab-df-convert {\n",
              "      background-color: #3B4455;\n",
              "      fill: #D2E3FC;\n",
              "    }\n",
              "\n",
              "    [theme=dark] .colab-df-convert:hover {\n",
              "      background-color: #434B5C;\n",
              "      box-shadow: 0px 1px 3px 1px rgba(0, 0, 0, 0.15);\n",
              "      filter: drop-shadow(0px 1px 2px rgba(0, 0, 0, 0.3));\n",
              "      fill: #FFFFFF;\n",
              "    }\n",
              "  </style>\n",
              "\n",
              "    <script>\n",
              "      const buttonEl =\n",
              "        document.querySelector('#df-53fd8208-1f6c-4023-b3f4-f6f0f8f32154 button.colab-df-convert');\n",
              "      buttonEl.style.display =\n",
              "        google.colab.kernel.accessAllowed ? 'block' : 'none';\n",
              "\n",
              "      async function convertToInteractive(key) {\n",
              "        const element = document.querySelector('#df-53fd8208-1f6c-4023-b3f4-f6f0f8f32154');\n",
              "        const dataTable =\n",
              "          await google.colab.kernel.invokeFunction('convertToInteractive',\n",
              "                                                    [key], {});\n",
              "        if (!dataTable) return;\n",
              "\n",
              "        const docLinkHtml = 'Like what you see? Visit the ' +\n",
              "          '<a target=\"_blank\" href=https://colab.research.google.com/notebooks/data_table.ipynb>data table notebook</a>'\n",
              "          + ' to learn more about interactive tables.';\n",
              "        element.innerHTML = '';\n",
              "        dataTable['output_type'] = 'display_data';\n",
              "        await google.colab.output.renderOutput(dataTable, element);\n",
              "        const docLink = document.createElement('div');\n",
              "        docLink.innerHTML = docLinkHtml;\n",
              "        element.appendChild(docLink);\n",
              "      }\n",
              "    </script>\n",
              "  </div>\n",
              "\n",
              "\n",
              "<div id=\"df-ab841c04-3c22-4e02-9919-b367b580c506\">\n",
              "  <button class=\"colab-df-quickchart\" onclick=\"quickchart('df-ab841c04-3c22-4e02-9919-b367b580c506')\"\n",
              "            title=\"Suggest charts\"\n",
              "            style=\"display:none;\">\n",
              "\n",
              "<svg xmlns=\"http://www.w3.org/2000/svg\" height=\"24px\"viewBox=\"0 0 24 24\"\n",
              "     width=\"24px\">\n",
              "    <g>\n",
              "        <path d=\"M19 3H5c-1.1 0-2 .9-2 2v14c0 1.1.9 2 2 2h14c1.1 0 2-.9 2-2V5c0-1.1-.9-2-2-2zM9 17H7v-7h2v7zm4 0h-2V7h2v10zm4 0h-2v-4h2v4z\"/>\n",
              "    </g>\n",
              "</svg>\n",
              "  </button>\n",
              "\n",
              "<style>\n",
              "  .colab-df-quickchart {\n",
              "      --bg-color: #E8F0FE;\n",
              "      --fill-color: #1967D2;\n",
              "      --hover-bg-color: #E2EBFA;\n",
              "      --hover-fill-color: #174EA6;\n",
              "      --disabled-fill-color: #AAA;\n",
              "      --disabled-bg-color: #DDD;\n",
              "  }\n",
              "\n",
              "  [theme=dark] .colab-df-quickchart {\n",
              "      --bg-color: #3B4455;\n",
              "      --fill-color: #D2E3FC;\n",
              "      --hover-bg-color: #434B5C;\n",
              "      --hover-fill-color: #FFFFFF;\n",
              "      --disabled-bg-color: #3B4455;\n",
              "      --disabled-fill-color: #666;\n",
              "  }\n",
              "\n",
              "  .colab-df-quickchart {\n",
              "    background-color: var(--bg-color);\n",
              "    border: none;\n",
              "    border-radius: 50%;\n",
              "    cursor: pointer;\n",
              "    display: none;\n",
              "    fill: var(--fill-color);\n",
              "    height: 32px;\n",
              "    padding: 0;\n",
              "    width: 32px;\n",
              "  }\n",
              "\n",
              "  .colab-df-quickchart:hover {\n",
              "    background-color: var(--hover-bg-color);\n",
              "    box-shadow: 0 1px 2px rgba(60, 64, 67, 0.3), 0 1px 3px 1px rgba(60, 64, 67, 0.15);\n",
              "    fill: var(--button-hover-fill-color);\n",
              "  }\n",
              "\n",
              "  .colab-df-quickchart-complete:disabled,\n",
              "  .colab-df-quickchart-complete:disabled:hover {\n",
              "    background-color: var(--disabled-bg-color);\n",
              "    fill: var(--disabled-fill-color);\n",
              "    box-shadow: none;\n",
              "  }\n",
              "\n",
              "  .colab-df-spinner {\n",
              "    border: 2px solid var(--fill-color);\n",
              "    border-color: transparent;\n",
              "    border-bottom-color: var(--fill-color);\n",
              "    animation:\n",
              "      spin 1s steps(1) infinite;\n",
              "  }\n",
              "\n",
              "  @keyframes spin {\n",
              "    0% {\n",
              "      border-color: transparent;\n",
              "      border-bottom-color: var(--fill-color);\n",
              "      border-left-color: var(--fill-color);\n",
              "    }\n",
              "    20% {\n",
              "      border-color: transparent;\n",
              "      border-left-color: var(--fill-color);\n",
              "      border-top-color: var(--fill-color);\n",
              "    }\n",
              "    30% {\n",
              "      border-color: transparent;\n",
              "      border-left-color: var(--fill-color);\n",
              "      border-top-color: var(--fill-color);\n",
              "      border-right-color: var(--fill-color);\n",
              "    }\n",
              "    40% {\n",
              "      border-color: transparent;\n",
              "      border-right-color: var(--fill-color);\n",
              "      border-top-color: var(--fill-color);\n",
              "    }\n",
              "    60% {\n",
              "      border-color: transparent;\n",
              "      border-right-color: var(--fill-color);\n",
              "    }\n",
              "    80% {\n",
              "      border-color: transparent;\n",
              "      border-right-color: var(--fill-color);\n",
              "      border-bottom-color: var(--fill-color);\n",
              "    }\n",
              "    90% {\n",
              "      border-color: transparent;\n",
              "      border-bottom-color: var(--fill-color);\n",
              "    }\n",
              "  }\n",
              "</style>\n",
              "\n",
              "  <script>\n",
              "    async function quickchart(key) {\n",
              "      const quickchartButtonEl =\n",
              "        document.querySelector('#' + key + ' button');\n",
              "      quickchartButtonEl.disabled = true;  // To prevent multiple clicks.\n",
              "      quickchartButtonEl.classList.add('colab-df-spinner');\n",
              "      try {\n",
              "        const charts = await google.colab.kernel.invokeFunction(\n",
              "            'suggestCharts', [key], {});\n",
              "      } catch (error) {\n",
              "        console.error('Error during call to suggestCharts:', error);\n",
              "      }\n",
              "      quickchartButtonEl.classList.remove('colab-df-spinner');\n",
              "      quickchartButtonEl.classList.add('colab-df-quickchart-complete');\n",
              "    }\n",
              "    (() => {\n",
              "      let quickchartButtonEl =\n",
              "        document.querySelector('#df-ab841c04-3c22-4e02-9919-b367b580c506 button');\n",
              "      quickchartButtonEl.style.display =\n",
              "        google.colab.kernel.accessAllowed ? 'block' : 'none';\n",
              "    })();\n",
              "  </script>\n",
              "</div>\n",
              "\n",
              "    </div>\n",
              "  </div>\n"
            ],
            "text/plain": [
              "   Unnamed: 0  is_fake                                               news\n",
              "0           0        1  قصة النافذة التي لا تُفتح إلا عندما يتوّج نابو...\n",
              "1           1        1  سلطنة عمان لم تعلن إغلاق المجال الجويّ أمام طا...\n",
              "2           2        0  تنصح مجلة التكنولوجيا الألمانية \"سي.تي\" (c't) ...\n",
              "3           3        0  كشفت شركة سامسونغ أخيرا عن مشروعها المنتظر \"ني...\n",
              "4           4        0  ودع باريس سان جيرمان الفرنسي بطولة دوري أبطال ..."
            ]
          },
          "execution_count": 77,
          "metadata": {},
          "output_type": "execute_result"
        }
      ],
      "source": [
        "# Read data into a pandas dataframe\n",
        "data=pd.read_csv(\"/content/balanced_data.csv\")\n",
        "data.head()"
      ]
    },
    {
      "cell_type": "code",
      "execution_count": null,
      "metadata": {
        "colab": {
          "base_uri": "https://localhost:8080/"
        },
        "id": "O7A6AWN00pKd",
        "outputId": "e5b90d77-6ec9-426d-c129-2e98f8b5314a"
      },
      "outputs": [
        {
          "data": {
            "text/plain": [
              "(21720, 3)"
            ]
          },
          "execution_count": 78,
          "metadata": {},
          "output_type": "execute_result"
        }
      ],
      "source": [
        "# check datasize\n",
        "data.shape"
      ]
    },
    {
      "cell_type": "code",
      "execution_count": null,
      "metadata": {
        "colab": {
          "base_uri": "https://localhost:8080/"
        },
        "id": "7lN8VzI203XO",
        "outputId": "68727308-330d-400b-a54f-10e928560026"
      },
      "outputs": [
        {
          "data": {
            "text/plain": [
              "Index(['Unnamed: 0', 'is_fake', 'news'], dtype='object')"
            ]
          },
          "execution_count": 79,
          "metadata": {},
          "output_type": "execute_result"
        }
      ],
      "source": [
        "# check column names\n",
        "data.columns"
      ]
    },
    {
      "cell_type": "code",
      "execution_count": null,
      "metadata": {
        "colab": {
          "base_uri": "https://localhost:8080/",
          "height": 300
        },
        "id": "OUV12Ni605DU",
        "outputId": "ce9663c3-ec9b-4dd1-c6f0-7134e759dec5"
      },
      "outputs": [
        {
          "data": {
            "application/vnd.google.colaboratory.intrinsic+json": {
              "summary": "{\n  \"name\": \"data\",\n  \"rows\": 8,\n  \"fields\": [\n    {\n      \"column\": \"Unnamed: 0\",\n      \"properties\": {\n        \"dtype\": \"number\",\n        \"std\": 7827.774111494484,\n        \"min\": 0.0,\n        \"max\": 21720.0,\n        \"num_unique_values\": 7,\n        \"samples\": [\n          21720.0,\n          10859.5,\n          16289.25\n        ],\n        \"semantic_type\": \"\",\n        \"description\": \"\"\n      }\n    },\n    {\n      \"column\": \"is_fake\",\n      \"properties\": {\n        \"dtype\": \"number\",\n        \"std\": 7679.002875711042,\n        \"min\": 0.0,\n        \"max\": 21720.0,\n        \"num_unique_values\": 5,\n        \"samples\": [\n          0.5,\n          1.0,\n          0.5000115105263779\n        ],\n        \"semantic_type\": \"\",\n        \"description\": \"\"\n      }\n    }\n  ]\n}",
              "type": "dataframe"
            },
            "text/html": [
              "\n",
              "  <div id=\"df-c1ead959-ff49-456b-9980-39ef0fb3a2e5\" class=\"colab-df-container\">\n",
              "    <div>\n",
              "<style scoped>\n",
              "    .dataframe tbody tr th:only-of-type {\n",
              "        vertical-align: middle;\n",
              "    }\n",
              "\n",
              "    .dataframe tbody tr th {\n",
              "        vertical-align: top;\n",
              "    }\n",
              "\n",
              "    .dataframe thead th {\n",
              "        text-align: right;\n",
              "    }\n",
              "</style>\n",
              "<table border=\"1\" class=\"dataframe\">\n",
              "  <thead>\n",
              "    <tr style=\"text-align: right;\">\n",
              "      <th></th>\n",
              "      <th>Unnamed: 0</th>\n",
              "      <th>is_fake</th>\n",
              "    </tr>\n",
              "  </thead>\n",
              "  <tbody>\n",
              "    <tr>\n",
              "      <th>count</th>\n",
              "      <td>21720.000000</td>\n",
              "      <td>21720.000000</td>\n",
              "    </tr>\n",
              "    <tr>\n",
              "      <th>mean</th>\n",
              "      <td>10859.500000</td>\n",
              "      <td>0.500000</td>\n",
              "    </tr>\n",
              "    <tr>\n",
              "      <th>std</th>\n",
              "      <td>6270.168259</td>\n",
              "      <td>0.500012</td>\n",
              "    </tr>\n",
              "    <tr>\n",
              "      <th>min</th>\n",
              "      <td>0.000000</td>\n",
              "      <td>0.000000</td>\n",
              "    </tr>\n",
              "    <tr>\n",
              "      <th>25%</th>\n",
              "      <td>5429.750000</td>\n",
              "      <td>0.000000</td>\n",
              "    </tr>\n",
              "    <tr>\n",
              "      <th>50%</th>\n",
              "      <td>10859.500000</td>\n",
              "      <td>0.500000</td>\n",
              "    </tr>\n",
              "    <tr>\n",
              "      <th>75%</th>\n",
              "      <td>16289.250000</td>\n",
              "      <td>1.000000</td>\n",
              "    </tr>\n",
              "    <tr>\n",
              "      <th>max</th>\n",
              "      <td>21719.000000</td>\n",
              "      <td>1.000000</td>\n",
              "    </tr>\n",
              "  </tbody>\n",
              "</table>\n",
              "</div>\n",
              "    <div class=\"colab-df-buttons\">\n",
              "\n",
              "  <div class=\"colab-df-container\">\n",
              "    <button class=\"colab-df-convert\" onclick=\"convertToInteractive('df-c1ead959-ff49-456b-9980-39ef0fb3a2e5')\"\n",
              "            title=\"Convert this dataframe to an interactive table.\"\n",
              "            style=\"display:none;\">\n",
              "\n",
              "  <svg xmlns=\"http://www.w3.org/2000/svg\" height=\"24px\" viewBox=\"0 -960 960 960\">\n",
              "    <path d=\"M120-120v-720h720v720H120Zm60-500h600v-160H180v160Zm220 220h160v-160H400v160Zm0 220h160v-160H400v160ZM180-400h160v-160H180v160Zm440 0h160v-160H620v160ZM180-180h160v-160H180v160Zm440 0h160v-160H620v160Z\"/>\n",
              "  </svg>\n",
              "    </button>\n",
              "\n",
              "  <style>\n",
              "    .colab-df-container {\n",
              "      display:flex;\n",
              "      gap: 12px;\n",
              "    }\n",
              "\n",
              "    .colab-df-convert {\n",
              "      background-color: #E8F0FE;\n",
              "      border: none;\n",
              "      border-radius: 50%;\n",
              "      cursor: pointer;\n",
              "      display: none;\n",
              "      fill: #1967D2;\n",
              "      height: 32px;\n",
              "      padding: 0 0 0 0;\n",
              "      width: 32px;\n",
              "    }\n",
              "\n",
              "    .colab-df-convert:hover {\n",
              "      background-color: #E2EBFA;\n",
              "      box-shadow: 0px 1px 2px rgba(60, 64, 67, 0.3), 0px 1px 3px 1px rgba(60, 64, 67, 0.15);\n",
              "      fill: #174EA6;\n",
              "    }\n",
              "\n",
              "    .colab-df-buttons div {\n",
              "      margin-bottom: 4px;\n",
              "    }\n",
              "\n",
              "    [theme=dark] .colab-df-convert {\n",
              "      background-color: #3B4455;\n",
              "      fill: #D2E3FC;\n",
              "    }\n",
              "\n",
              "    [theme=dark] .colab-df-convert:hover {\n",
              "      background-color: #434B5C;\n",
              "      box-shadow: 0px 1px 3px 1px rgba(0, 0, 0, 0.15);\n",
              "      filter: drop-shadow(0px 1px 2px rgba(0, 0, 0, 0.3));\n",
              "      fill: #FFFFFF;\n",
              "    }\n",
              "  </style>\n",
              "\n",
              "    <script>\n",
              "      const buttonEl =\n",
              "        document.querySelector('#df-c1ead959-ff49-456b-9980-39ef0fb3a2e5 button.colab-df-convert');\n",
              "      buttonEl.style.display =\n",
              "        google.colab.kernel.accessAllowed ? 'block' : 'none';\n",
              "\n",
              "      async function convertToInteractive(key) {\n",
              "        const element = document.querySelector('#df-c1ead959-ff49-456b-9980-39ef0fb3a2e5');\n",
              "        const dataTable =\n",
              "          await google.colab.kernel.invokeFunction('convertToInteractive',\n",
              "                                                    [key], {});\n",
              "        if (!dataTable) return;\n",
              "\n",
              "        const docLinkHtml = 'Like what you see? Visit the ' +\n",
              "          '<a target=\"_blank\" href=https://colab.research.google.com/notebooks/data_table.ipynb>data table notebook</a>'\n",
              "          + ' to learn more about interactive tables.';\n",
              "        element.innerHTML = '';\n",
              "        dataTable['output_type'] = 'display_data';\n",
              "        await google.colab.output.renderOutput(dataTable, element);\n",
              "        const docLink = document.createElement('div');\n",
              "        docLink.innerHTML = docLinkHtml;\n",
              "        element.appendChild(docLink);\n",
              "      }\n",
              "    </script>\n",
              "  </div>\n",
              "\n",
              "\n",
              "<div id=\"df-af6bb5c0-f9cc-4298-8032-db78aa4b37bc\">\n",
              "  <button class=\"colab-df-quickchart\" onclick=\"quickchart('df-af6bb5c0-f9cc-4298-8032-db78aa4b37bc')\"\n",
              "            title=\"Suggest charts\"\n",
              "            style=\"display:none;\">\n",
              "\n",
              "<svg xmlns=\"http://www.w3.org/2000/svg\" height=\"24px\"viewBox=\"0 0 24 24\"\n",
              "     width=\"24px\">\n",
              "    <g>\n",
              "        <path d=\"M19 3H5c-1.1 0-2 .9-2 2v14c0 1.1.9 2 2 2h14c1.1 0 2-.9 2-2V5c0-1.1-.9-2-2-2zM9 17H7v-7h2v7zm4 0h-2V7h2v10zm4 0h-2v-4h2v4z\"/>\n",
              "    </g>\n",
              "</svg>\n",
              "  </button>\n",
              "\n",
              "<style>\n",
              "  .colab-df-quickchart {\n",
              "      --bg-color: #E8F0FE;\n",
              "      --fill-color: #1967D2;\n",
              "      --hover-bg-color: #E2EBFA;\n",
              "      --hover-fill-color: #174EA6;\n",
              "      --disabled-fill-color: #AAA;\n",
              "      --disabled-bg-color: #DDD;\n",
              "  }\n",
              "\n",
              "  [theme=dark] .colab-df-quickchart {\n",
              "      --bg-color: #3B4455;\n",
              "      --fill-color: #D2E3FC;\n",
              "      --hover-bg-color: #434B5C;\n",
              "      --hover-fill-color: #FFFFFF;\n",
              "      --disabled-bg-color: #3B4455;\n",
              "      --disabled-fill-color: #666;\n",
              "  }\n",
              "\n",
              "  .colab-df-quickchart {\n",
              "    background-color: var(--bg-color);\n",
              "    border: none;\n",
              "    border-radius: 50%;\n",
              "    cursor: pointer;\n",
              "    display: none;\n",
              "    fill: var(--fill-color);\n",
              "    height: 32px;\n",
              "    padding: 0;\n",
              "    width: 32px;\n",
              "  }\n",
              "\n",
              "  .colab-df-quickchart:hover {\n",
              "    background-color: var(--hover-bg-color);\n",
              "    box-shadow: 0 1px 2px rgba(60, 64, 67, 0.3), 0 1px 3px 1px rgba(60, 64, 67, 0.15);\n",
              "    fill: var(--button-hover-fill-color);\n",
              "  }\n",
              "\n",
              "  .colab-df-quickchart-complete:disabled,\n",
              "  .colab-df-quickchart-complete:disabled:hover {\n",
              "    background-color: var(--disabled-bg-color);\n",
              "    fill: var(--disabled-fill-color);\n",
              "    box-shadow: none;\n",
              "  }\n",
              "\n",
              "  .colab-df-spinner {\n",
              "    border: 2px solid var(--fill-color);\n",
              "    border-color: transparent;\n",
              "    border-bottom-color: var(--fill-color);\n",
              "    animation:\n",
              "      spin 1s steps(1) infinite;\n",
              "  }\n",
              "\n",
              "  @keyframes spin {\n",
              "    0% {\n",
              "      border-color: transparent;\n",
              "      border-bottom-color: var(--fill-color);\n",
              "      border-left-color: var(--fill-color);\n",
              "    }\n",
              "    20% {\n",
              "      border-color: transparent;\n",
              "      border-left-color: var(--fill-color);\n",
              "      border-top-color: var(--fill-color);\n",
              "    }\n",
              "    30% {\n",
              "      border-color: transparent;\n",
              "      border-left-color: var(--fill-color);\n",
              "      border-top-color: var(--fill-color);\n",
              "      border-right-color: var(--fill-color);\n",
              "    }\n",
              "    40% {\n",
              "      border-color: transparent;\n",
              "      border-right-color: var(--fill-color);\n",
              "      border-top-color: var(--fill-color);\n",
              "    }\n",
              "    60% {\n",
              "      border-color: transparent;\n",
              "      border-right-color: var(--fill-color);\n",
              "    }\n",
              "    80% {\n",
              "      border-color: transparent;\n",
              "      border-right-color: var(--fill-color);\n",
              "      border-bottom-color: var(--fill-color);\n",
              "    }\n",
              "    90% {\n",
              "      border-color: transparent;\n",
              "      border-bottom-color: var(--fill-color);\n",
              "    }\n",
              "  }\n",
              "</style>\n",
              "\n",
              "  <script>\n",
              "    async function quickchart(key) {\n",
              "      const quickchartButtonEl =\n",
              "        document.querySelector('#' + key + ' button');\n",
              "      quickchartButtonEl.disabled = true;  // To prevent multiple clicks.\n",
              "      quickchartButtonEl.classList.add('colab-df-spinner');\n",
              "      try {\n",
              "        const charts = await google.colab.kernel.invokeFunction(\n",
              "            'suggestCharts', [key], {});\n",
              "      } catch (error) {\n",
              "        console.error('Error during call to suggestCharts:', error);\n",
              "      }\n",
              "      quickchartButtonEl.classList.remove('colab-df-spinner');\n",
              "      quickchartButtonEl.classList.add('colab-df-quickchart-complete');\n",
              "    }\n",
              "    (() => {\n",
              "      let quickchartButtonEl =\n",
              "        document.querySelector('#df-af6bb5c0-f9cc-4298-8032-db78aa4b37bc button');\n",
              "      quickchartButtonEl.style.display =\n",
              "        google.colab.kernel.accessAllowed ? 'block' : 'none';\n",
              "    })();\n",
              "  </script>\n",
              "</div>\n",
              "\n",
              "    </div>\n",
              "  </div>\n"
            ],
            "text/plain": [
              "         Unnamed: 0       is_fake\n",
              "count  21720.000000  21720.000000\n",
              "mean   10859.500000      0.500000\n",
              "std     6270.168259      0.500012\n",
              "min        0.000000      0.000000\n",
              "25%     5429.750000      0.000000\n",
              "50%    10859.500000      0.500000\n",
              "75%    16289.250000      1.000000\n",
              "max    21719.000000      1.000000"
            ]
          },
          "execution_count": 80,
          "metadata": {},
          "output_type": "execute_result"
        }
      ],
      "source": [
        "# display statistiques on the data\n",
        "data.describe()"
      ]
    },
    {
      "cell_type": "code",
      "execution_count": null,
      "metadata": {
        "id": "ygqs46GLLBj-"
      },
      "outputs": [],
      "source": [
        "data=data.drop(['Unnamed: 0'], axis=1)"
      ]
    },
    {
      "cell_type": "code",
      "execution_count": null,
      "metadata": {
        "colab": {
          "base_uri": "https://localhost:8080/",
          "height": 206
        },
        "id": "xUM7SbERLUqE",
        "outputId": "4bb4b43c-1fd9-4ae7-917d-cbc7325a9bf7"
      },
      "outputs": [
        {
          "data": {
            "application/vnd.google.colaboratory.intrinsic+json": {
              "summary": "{\n  \"name\": \"data\",\n  \"rows\": 21720,\n  \"fields\": [\n    {\n      \"column\": \"is_fake\",\n      \"properties\": {\n        \"dtype\": \"number\",\n        \"std\": 0,\n        \"min\": 0,\n        \"max\": 1,\n        \"num_unique_values\": 2,\n        \"samples\": [\n          0,\n          1\n        ],\n        \"semantic_type\": \"\",\n        \"description\": \"\"\n      }\n    },\n    {\n      \"column\": \"news\",\n      \"properties\": {\n        \"dtype\": \"string\",\n        \"num_unique_values\": 12091,\n        \"samples\": [\n          \"\\u062f\\u0644\\u064a\\u0644 \\u062a\\u0631\\u0627\\u0645\\u0628 \\u0648\\u0636\\u0639 \\u0627\\u0646\\u0628\\u0648\\u0628 \\u0627\\u0643\\u0633\\u062c \\u0633\\u062a\\u0631\",\n          \"\\u0627\\u0633\\u062a\\u0647\\u0644 \\u0648\\u0631\\u0635 \\u062f\\u0627\\u0631 \\u0628\\u064a\\u0636\\u0627\\u0621 \\u062a\\u062f\\u0627\\u0648\\u0644\\u0627 \\u064a\\u0648\\u0645 \\u0627\\u062b\\u0646 \\u0648\\u0642\\u0639 \\u0627\\u062e\\u0636\\u0631 \\u0633\\u062c\\u0644 \\u0645\\u0648\\u0634\\u0631 \\u0631\\u064a\\u064a\\u0633 \\u0645\\u0627\\u0632 \\u0627\\u0631\\u062a\\u0641\\u0627\\u0639 \\u0646\\u0633\\u0628 \\u0645\\u0627\\u0621 \\u0644\\u064a\\u0633\\u062a\\u0642\\u0631 \\u0646\\u0642\\u0637 \\u0628\\u0639\\u062f \\u062f\\u0642\\u0627\\u064a\\u0642 \\u0627\\u0641\\u062a\\u062a\\u0627\\u062d \\u0627\\u0631\\u062a\\u0641\\u0639 \\u0645\\u0648\\u0634\\u0631 \\u064a\\u0639\\u0643\\u0633 \\u0627\\u062f\\u0627\\u0621 \\u0645\\u0642\\u0627\\u0648\\u0644 \\u0645\\u062f\\u0631\\u062c \\u0628\\u0648\\u0631\\u0635 \\u0646\\u0633\\u0628 \\u0645\\u0627\\u0621 \\u0646\\u0642\\u0637 \\u0633\\u062c\\u0644 \\u0645\\u0648\\u0634\\u0631 \\u0645\\u0642\\u0627\\u0648\\u0644 \\u062d\\u0627\\u0635\\u0644 \\u0627\\u0641\\u0636\\u0644 \\u062a\\u0635\\u0646\\u064a\\u0641 \\u0631\\u0628\\u062d \\u0646\\u0633\\u0628 \\u0645\\u0627\\u0621 \\u0646\\u0642\\u0637 \\u062f\\u0648\\u0631 \\u0628\\u0635\\u0645 \\u0645\\u0648\\u0634\\u0631 \\u0627\\u062f\\u0627\\u0621 \\u0627\\u0633\\u0639\\u0627\\u0631 \\u0645\\u0642\\u0627\\u0648\\u0644 \\u0635\\u063a\\u064a\\u0631 \\u0648\\u0627\\u0644\\u0645\\u062a\\u0648\\u0633\\u0637 \\u0645\\u062f\\u0631\\u062c \\u0628\\u0648\\u0631\\u0635 \\u0627\\u0631\\u062a\\u0641\\u0627\\u0639 \\u0646\\u0633\\u0628 \\u0645\\u0627\\u0621 \\u0646\\u0642\\u0637 \\u0643\\u0627\\u0646 \\u0645\\u0648\\u0634\\u0631 \\u0645\\u0627\\u0632 \\u0627\\u0646\\u0647\\u064a \\u062a\\u062f\\u0627\\u0648\\u0644\\u0627 \\u062c\\u0645\\u0639 \\u0645\\u0627\\u0636 \\u062a\\u0633\\u062c\\u064a\\u0644 \\u0631\\u0628\\u062d \\u0646\\u0633\\u0628 \\u0645\\u0627\\u0621\"\n        ],\n        \"semantic_type\": \"\",\n        \"description\": \"\"\n      }\n    }\n  ]\n}",
              "type": "dataframe",
              "variable_name": "data"
            },
            "text/html": [
              "\n",
              "  <div id=\"df-758c5a7e-edd5-441b-bf96-ca0f17a2c1d2\" class=\"colab-df-container\">\n",
              "    <div>\n",
              "<style scoped>\n",
              "    .dataframe tbody tr th:only-of-type {\n",
              "        vertical-align: middle;\n",
              "    }\n",
              "\n",
              "    .dataframe tbody tr th {\n",
              "        vertical-align: top;\n",
              "    }\n",
              "\n",
              "    .dataframe thead th {\n",
              "        text-align: right;\n",
              "    }\n",
              "</style>\n",
              "<table border=\"1\" class=\"dataframe\">\n",
              "  <thead>\n",
              "    <tr style=\"text-align: right;\">\n",
              "      <th></th>\n",
              "      <th>is_fake</th>\n",
              "      <th>news</th>\n",
              "    </tr>\n",
              "  </thead>\n",
              "  <tbody>\n",
              "    <tr>\n",
              "      <th>0</th>\n",
              "      <td>1</td>\n",
              "      <td>قصة نافذ فتح عندم يتو نابول لقب دور حقيق</td>\n",
              "    </tr>\n",
              "    <tr>\n",
              "      <th>1</th>\n",
              "      <td>1</td>\n",
              "      <td>سلطن عمان تعل اغلاق مجال الجو طايرا حرب متجه يمن</td>\n",
              "    </tr>\n",
              "    <tr>\n",
              "      <th>2</th>\n",
              "      <td>0</td>\n",
              "      <td>تنصح مجل تكنولوجيا المان سي مستخدم ضرور تصفح م...</td>\n",
              "    </tr>\n",
              "    <tr>\n",
              "      <th>3</th>\n",
              "      <td>0</td>\n",
              "      <td>كشف شرك سامسونغ اخير مشروع منتظر نيون عبار روب...</td>\n",
              "    </tr>\n",
              "    <tr>\n",
              "      <th>4</th>\n",
              "      <td>0</td>\n",
              "      <td>ودع باريس سان جيرم فرنس طول دور ابطال اوروب لك...</td>\n",
              "    </tr>\n",
              "  </tbody>\n",
              "</table>\n",
              "</div>\n",
              "    <div class=\"colab-df-buttons\">\n",
              "\n",
              "  <div class=\"colab-df-container\">\n",
              "    <button class=\"colab-df-convert\" onclick=\"convertToInteractive('df-758c5a7e-edd5-441b-bf96-ca0f17a2c1d2')\"\n",
              "            title=\"Convert this dataframe to an interactive table.\"\n",
              "            style=\"display:none;\">\n",
              "\n",
              "  <svg xmlns=\"http://www.w3.org/2000/svg\" height=\"24px\" viewBox=\"0 -960 960 960\">\n",
              "    <path d=\"M120-120v-720h720v720H120Zm60-500h600v-160H180v160Zm220 220h160v-160H400v160Zm0 220h160v-160H400v160ZM180-400h160v-160H180v160Zm440 0h160v-160H620v160ZM180-180h160v-160H180v160Zm440 0h160v-160H620v160Z\"/>\n",
              "  </svg>\n",
              "    </button>\n",
              "\n",
              "  <style>\n",
              "    .colab-df-container {\n",
              "      display:flex;\n",
              "      gap: 12px;\n",
              "    }\n",
              "\n",
              "    .colab-df-convert {\n",
              "      background-color: #E8F0FE;\n",
              "      border: none;\n",
              "      border-radius: 50%;\n",
              "      cursor: pointer;\n",
              "      display: none;\n",
              "      fill: #1967D2;\n",
              "      height: 32px;\n",
              "      padding: 0 0 0 0;\n",
              "      width: 32px;\n",
              "    }\n",
              "\n",
              "    .colab-df-convert:hover {\n",
              "      background-color: #E2EBFA;\n",
              "      box-shadow: 0px 1px 2px rgba(60, 64, 67, 0.3), 0px 1px 3px 1px rgba(60, 64, 67, 0.15);\n",
              "      fill: #174EA6;\n",
              "    }\n",
              "\n",
              "    .colab-df-buttons div {\n",
              "      margin-bottom: 4px;\n",
              "    }\n",
              "\n",
              "    [theme=dark] .colab-df-convert {\n",
              "      background-color: #3B4455;\n",
              "      fill: #D2E3FC;\n",
              "    }\n",
              "\n",
              "    [theme=dark] .colab-df-convert:hover {\n",
              "      background-color: #434B5C;\n",
              "      box-shadow: 0px 1px 3px 1px rgba(0, 0, 0, 0.15);\n",
              "      filter: drop-shadow(0px 1px 2px rgba(0, 0, 0, 0.3));\n",
              "      fill: #FFFFFF;\n",
              "    }\n",
              "  </style>\n",
              "\n",
              "    <script>\n",
              "      const buttonEl =\n",
              "        document.querySelector('#df-758c5a7e-edd5-441b-bf96-ca0f17a2c1d2 button.colab-df-convert');\n",
              "      buttonEl.style.display =\n",
              "        google.colab.kernel.accessAllowed ? 'block' : 'none';\n",
              "\n",
              "      async function convertToInteractive(key) {\n",
              "        const element = document.querySelector('#df-758c5a7e-edd5-441b-bf96-ca0f17a2c1d2');\n",
              "        const dataTable =\n",
              "          await google.colab.kernel.invokeFunction('convertToInteractive',\n",
              "                                                    [key], {});\n",
              "        if (!dataTable) return;\n",
              "\n",
              "        const docLinkHtml = 'Like what you see? Visit the ' +\n",
              "          '<a target=\"_blank\" href=https://colab.research.google.com/notebooks/data_table.ipynb>data table notebook</a>'\n",
              "          + ' to learn more about interactive tables.';\n",
              "        element.innerHTML = '';\n",
              "        dataTable['output_type'] = 'display_data';\n",
              "        await google.colab.output.renderOutput(dataTable, element);\n",
              "        const docLink = document.createElement('div');\n",
              "        docLink.innerHTML = docLinkHtml;\n",
              "        element.appendChild(docLink);\n",
              "      }\n",
              "    </script>\n",
              "  </div>\n",
              "\n",
              "\n",
              "<div id=\"df-42260719-e22c-417b-9e97-bf66b7041fe2\">\n",
              "  <button class=\"colab-df-quickchart\" onclick=\"quickchart('df-42260719-e22c-417b-9e97-bf66b7041fe2')\"\n",
              "            title=\"Suggest charts\"\n",
              "            style=\"display:none;\">\n",
              "\n",
              "<svg xmlns=\"http://www.w3.org/2000/svg\" height=\"24px\"viewBox=\"0 0 24 24\"\n",
              "     width=\"24px\">\n",
              "    <g>\n",
              "        <path d=\"M19 3H5c-1.1 0-2 .9-2 2v14c0 1.1.9 2 2 2h14c1.1 0 2-.9 2-2V5c0-1.1-.9-2-2-2zM9 17H7v-7h2v7zm4 0h-2V7h2v10zm4 0h-2v-4h2v4z\"/>\n",
              "    </g>\n",
              "</svg>\n",
              "  </button>\n",
              "\n",
              "<style>\n",
              "  .colab-df-quickchart {\n",
              "      --bg-color: #E8F0FE;\n",
              "      --fill-color: #1967D2;\n",
              "      --hover-bg-color: #E2EBFA;\n",
              "      --hover-fill-color: #174EA6;\n",
              "      --disabled-fill-color: #AAA;\n",
              "      --disabled-bg-color: #DDD;\n",
              "  }\n",
              "\n",
              "  [theme=dark] .colab-df-quickchart {\n",
              "      --bg-color: #3B4455;\n",
              "      --fill-color: #D2E3FC;\n",
              "      --hover-bg-color: #434B5C;\n",
              "      --hover-fill-color: #FFFFFF;\n",
              "      --disabled-bg-color: #3B4455;\n",
              "      --disabled-fill-color: #666;\n",
              "  }\n",
              "\n",
              "  .colab-df-quickchart {\n",
              "    background-color: var(--bg-color);\n",
              "    border: none;\n",
              "    border-radius: 50%;\n",
              "    cursor: pointer;\n",
              "    display: none;\n",
              "    fill: var(--fill-color);\n",
              "    height: 32px;\n",
              "    padding: 0;\n",
              "    width: 32px;\n",
              "  }\n",
              "\n",
              "  .colab-df-quickchart:hover {\n",
              "    background-color: var(--hover-bg-color);\n",
              "    box-shadow: 0 1px 2px rgba(60, 64, 67, 0.3), 0 1px 3px 1px rgba(60, 64, 67, 0.15);\n",
              "    fill: var(--button-hover-fill-color);\n",
              "  }\n",
              "\n",
              "  .colab-df-quickchart-complete:disabled,\n",
              "  .colab-df-quickchart-complete:disabled:hover {\n",
              "    background-color: var(--disabled-bg-color);\n",
              "    fill: var(--disabled-fill-color);\n",
              "    box-shadow: none;\n",
              "  }\n",
              "\n",
              "  .colab-df-spinner {\n",
              "    border: 2px solid var(--fill-color);\n",
              "    border-color: transparent;\n",
              "    border-bottom-color: var(--fill-color);\n",
              "    animation:\n",
              "      spin 1s steps(1) infinite;\n",
              "  }\n",
              "\n",
              "  @keyframes spin {\n",
              "    0% {\n",
              "      border-color: transparent;\n",
              "      border-bottom-color: var(--fill-color);\n",
              "      border-left-color: var(--fill-color);\n",
              "    }\n",
              "    20% {\n",
              "      border-color: transparent;\n",
              "      border-left-color: var(--fill-color);\n",
              "      border-top-color: var(--fill-color);\n",
              "    }\n",
              "    30% {\n",
              "      border-color: transparent;\n",
              "      border-left-color: var(--fill-color);\n",
              "      border-top-color: var(--fill-color);\n",
              "      border-right-color: var(--fill-color);\n",
              "    }\n",
              "    40% {\n",
              "      border-color: transparent;\n",
              "      border-right-color: var(--fill-color);\n",
              "      border-top-color: var(--fill-color);\n",
              "    }\n",
              "    60% {\n",
              "      border-color: transparent;\n",
              "      border-right-color: var(--fill-color);\n",
              "    }\n",
              "    80% {\n",
              "      border-color: transparent;\n",
              "      border-right-color: var(--fill-color);\n",
              "      border-bottom-color: var(--fill-color);\n",
              "    }\n",
              "    90% {\n",
              "      border-color: transparent;\n",
              "      border-bottom-color: var(--fill-color);\n",
              "    }\n",
              "  }\n",
              "</style>\n",
              "\n",
              "  <script>\n",
              "    async function quickchart(key) {\n",
              "      const quickchartButtonEl =\n",
              "        document.querySelector('#' + key + ' button');\n",
              "      quickchartButtonEl.disabled = true;  // To prevent multiple clicks.\n",
              "      quickchartButtonEl.classList.add('colab-df-spinner');\n",
              "      try {\n",
              "        const charts = await google.colab.kernel.invokeFunction(\n",
              "            'suggestCharts', [key], {});\n",
              "      } catch (error) {\n",
              "        console.error('Error during call to suggestCharts:', error);\n",
              "      }\n",
              "      quickchartButtonEl.classList.remove('colab-df-spinner');\n",
              "      quickchartButtonEl.classList.add('colab-df-quickchart-complete');\n",
              "    }\n",
              "    (() => {\n",
              "      let quickchartButtonEl =\n",
              "        document.querySelector('#df-42260719-e22c-417b-9e97-bf66b7041fe2 button');\n",
              "      quickchartButtonEl.style.display =\n",
              "        google.colab.kernel.accessAllowed ? 'block' : 'none';\n",
              "    })();\n",
              "  </script>\n",
              "</div>\n",
              "\n",
              "    </div>\n",
              "  </div>\n"
            ],
            "text/plain": [
              "   is_fake                                               news\n",
              "0        1           قصة نافذ فتح عندم يتو نابول لقب دور حقيق\n",
              "1        1   سلطن عمان تعل اغلاق مجال الجو طايرا حرب متجه يمن\n",
              "2        0  تنصح مجل تكنولوجيا المان سي مستخدم ضرور تصفح م...\n",
              "3        0  كشف شرك سامسونغ اخير مشروع منتظر نيون عبار روب...\n",
              "4        0  ودع باريس سان جيرم فرنس طول دور ابطال اوروب لك..."
            ]
          },
          "execution_count": 93,
          "metadata": {},
          "output_type": "execute_result"
        }
      ],
      "source": [
        "data.head()"
      ]
    },
    {
      "cell_type": "code",
      "execution_count": null,
      "metadata": {
        "colab": {
          "base_uri": "https://localhost:8080/",
          "height": 147
        },
        "id": "Z3wQ-l3407-5",
        "outputId": "b9f35ba7-b253-4c94-944c-7f77abd22015"
      },
      "outputs": [
        {
          "data": {
            "text/html": [
              "<div>\n",
              "<style scoped>\n",
              "    .dataframe tbody tr th:only-of-type {\n",
              "        vertical-align: middle;\n",
              "    }\n",
              "\n",
              "    .dataframe tbody tr th {\n",
              "        vertical-align: top;\n",
              "    }\n",
              "\n",
              "    .dataframe thead th {\n",
              "        text-align: right;\n",
              "    }\n",
              "</style>\n",
              "<table border=\"1\" class=\"dataframe\">\n",
              "  <thead>\n",
              "    <tr style=\"text-align: right;\">\n",
              "      <th></th>\n",
              "      <th>0</th>\n",
              "    </tr>\n",
              "  </thead>\n",
              "  <tbody>\n",
              "    <tr>\n",
              "      <th>is_fake</th>\n",
              "      <td>0</td>\n",
              "    </tr>\n",
              "    <tr>\n",
              "      <th>news</th>\n",
              "      <td>0</td>\n",
              "    </tr>\n",
              "  </tbody>\n",
              "</table>\n",
              "</div><br><label><b>dtype:</b> int64</label>"
            ],
            "text/plain": [
              "is_fake    0\n",
              "news       0\n",
              "dtype: int64"
            ]
          },
          "execution_count": 94,
          "metadata": {},
          "output_type": "execute_result"
        }
      ],
      "source": [
        "# check for columns with missing values\n",
        "data.isnull().sum()"
      ]
    },
    {
      "cell_type": "markdown",
      "metadata": {
        "id": "WKun1nmz1AOY"
      },
      "source": [
        "## Preprocessing"
      ]
    },
    {
      "cell_type": "markdown",
      "metadata": {
        "id": "BGvJvNND1fL4"
      },
      "source": [
        "REMOVING NON-ARABIC CHARACTERS,CONVERTIG TO LOWERCASE, REMOVING STOP WORDS AND THEN STEMMING"
      ]
    },
    {
      "cell_type": "code",
      "execution_count": null,
      "metadata": {
        "colab": {
          "base_uri": "https://localhost:8080/"
        },
        "id": "Gv6fJZdn1vYQ",
        "outputId": "2876ff0f-dac4-4ac6-edca-d6ac2f100845"
      },
      "outputs": [
        {
          "name": "stderr",
          "output_type": "stream",
          "text": [
            "[nltk_data] Downloading package stopwords to /root/nltk_data...\n",
            "[nltk_data]   Package stopwords is already up-to-date!\n"
          ]
        },
        {
          "data": {
            "text/plain": [
              "True"
            ]
          },
          "execution_count": 95,
          "metadata": {},
          "output_type": "execute_result"
        }
      ],
      "source": [
        "import nltk\n",
        "nltk.download('stopwords')"
      ]
    },
    {
      "cell_type": "code",
      "execution_count": null,
      "metadata": {
        "id": "5ckQnXlS1frz"
      },
      "outputs": [],
      "source": [
        "# Initialize stopwords and stemmer\n",
        "arabic_stopwords = set(stopwords.words('arabic'))\n",
        "arabic_stemmer = stemmer('arabic')\n",
        "\n",
        "def preprocess_article(article_content):\n",
        "    # Remove non-Arabic characters\n",
        "    article_content = re.sub('[^\\u0621-\\u064A\\s]', ' ', article_content)\n",
        "\n",
        "    # Lowercase and split into words\n",
        "    article_content = article_content.lower().split()\n",
        "\n",
        "    # Remove stopwords and stem the words\n",
        "    article_content = [arabic_stemmer.stemWord(word) for word in article_content if word not in arabic_stopwords]\n",
        "\n",
        "    # Join the words back into a single string\n",
        "    return ' '.join(article_content)\n",
        "\n",
        "# Apply preprocessing using parallel processing\n",
        "processed_contents = Parallel(n_jobs=-1)(delayed(preprocess_article)(content) for content in data['news'])\n",
        "\n",
        "# Update the DataFrame column with the processed content\n",
        "data['news'] = processed_contents"
      ]
    },
    {
      "cell_type": "code",
      "execution_count": null,
      "metadata": {
        "colab": {
          "base_uri": "https://localhost:8080/",
          "height": 206
        },
        "id": "ZFegv4Y216Xt",
        "outputId": "2cb667ef-de62-4817-d4de-4d32cac6a34b"
      },
      "outputs": [
        {
          "data": {
            "application/vnd.google.colaboratory.intrinsic+json": {
              "summary": "{\n  \"name\": \"data\",\n  \"rows\": 21720,\n  \"fields\": [\n    {\n      \"column\": \"is_fake\",\n      \"properties\": {\n        \"dtype\": \"number\",\n        \"std\": 0,\n        \"min\": 0,\n        \"max\": 1,\n        \"num_unique_values\": 2,\n        \"samples\": [\n          0,\n          1\n        ],\n        \"semantic_type\": \"\",\n        \"description\": \"\"\n      }\n    },\n    {\n      \"column\": \"news\",\n      \"properties\": {\n        \"dtype\": \"string\",\n        \"num_unique_values\": 12091,\n        \"samples\": [\n          \"\\u062f\\u0644\\u064a\\u0644 \\u062a\\u0631\\u0627\\u0645\\u0628 \\u0648\\u0636\\u0639 \\u0627\\u0646\\u0628\\u0648\\u0628 \\u0627\\u0643\\u0633\\u062c \\u0633\\u062a\\u0631\",\n          \"\\u0627\\u0633\\u062a\\u0647\\u0644 \\u0648\\u0631\\u0635 \\u062f\\u0627\\u0631 \\u064a\\u0636\\u0627\\u0621 \\u062a\\u062f\\u0627\\u0648\\u0644 \\u064a\\u0648\\u0645 \\u0627\\u062b\\u0646 \\u0648\\u0642\\u0639 \\u0627\\u062e\\u0636\\u0631 \\u0633\\u062c\\u0644 \\u0645\\u0648\\u0634\\u0631 \\u0631\\u064a\\u064a\\u0633 \\u0645\\u0627\\u0632 \\u0627\\u0631\\u062a\\u0641\\u0627\\u0639 \\u0646\\u0633\\u0628 \\u0645\\u0627\\u0621 \\u0644\\u064a\\u0633\\u062a\\u0642\\u0631 \\u0646\\u0642\\u0637 \\u062f\\u0642\\u0627\\u064a\\u0642 \\u0627\\u0641\\u062a\\u062a\\u0627\\u062d \\u0627\\u0631\\u062a\\u0641\\u0639 \\u0645\\u0648\\u0634\\u0631 \\u064a\\u0639\\u0643\\u0633 \\u0627\\u062f\\u0627\\u0621 \\u0645\\u0642\\u0627\\u0648\\u0644 \\u0645\\u062f\\u0631\\u062c \\u0648\\u0631\\u0635 \\u0646\\u0633\\u0628 \\u0645\\u0627\\u0621 \\u0646\\u0642\\u0637 \\u0633\\u062c\\u0644 \\u0645\\u0648\\u0634\\u0631 \\u0645\\u0642\\u0627\\u0648\\u0644 \\u062d\\u0627\\u0635\\u0644 \\u0627\\u0641\\u0636\\u0644 \\u062a\\u0635\\u0646\\u064a\\u0641 \\u0631\\u0628\\u062d \\u0646\\u0633\\u0628 \\u0645\\u0627\\u0621 \\u0646\\u0642\\u0637 \\u062f\\u0648\\u0631 \\u0628\\u0635\\u0645 \\u0645\\u0648\\u0634\\u0631 \\u0627\\u062f\\u0627\\u0621 \\u0627\\u0633\\u0639\\u0627\\u0631 \\u0645\\u0642\\u0627\\u0648\\u0644 \\u0635\\u063a\\u064a\\u0631 \\u0648\\u0627\\u0644\\u0645\\u062a\\u0648\\u0633\\u0637 \\u0645\\u062f\\u0631\\u062c \\u0648\\u0631\\u0635 \\u0627\\u0631\\u062a\\u0641\\u0627\\u0639 \\u0646\\u0633\\u0628 \\u0645\\u0627\\u0621 \\u0646\\u0642\\u0637 \\u0645\\u0648\\u0634\\u0631 \\u0645\\u0627\\u0632 \\u0627\\u0646\\u0647 \\u062a\\u062f\\u0627\\u0648\\u0644 \\u062c\\u0645\\u0639 \\u0645\\u0627\\u0636 \\u062a\\u0633\\u062c\\u064a\\u0644 \\u0631\\u0628\\u062d \\u0646\\u0633\\u0628 \\u0645\\u0627\\u0621\"\n        ],\n        \"semantic_type\": \"\",\n        \"description\": \"\"\n      }\n    }\n  ]\n}",
              "type": "dataframe",
              "variable_name": "data"
            },
            "text/html": [
              "\n",
              "  <div id=\"df-944a5e68-2e4c-4c9d-bc63-99270773638e\" class=\"colab-df-container\">\n",
              "    <div>\n",
              "<style scoped>\n",
              "    .dataframe tbody tr th:only-of-type {\n",
              "        vertical-align: middle;\n",
              "    }\n",
              "\n",
              "    .dataframe tbody tr th {\n",
              "        vertical-align: top;\n",
              "    }\n",
              "\n",
              "    .dataframe thead th {\n",
              "        text-align: right;\n",
              "    }\n",
              "</style>\n",
              "<table border=\"1\" class=\"dataframe\">\n",
              "  <thead>\n",
              "    <tr style=\"text-align: right;\">\n",
              "      <th></th>\n",
              "      <th>is_fake</th>\n",
              "      <th>news</th>\n",
              "    </tr>\n",
              "  </thead>\n",
              "  <tbody>\n",
              "    <tr>\n",
              "      <th>0</th>\n",
              "      <td>1</td>\n",
              "      <td>قصة نافذ فتح عندم يتو نابول لقب دور حقيق</td>\n",
              "    </tr>\n",
              "    <tr>\n",
              "      <th>1</th>\n",
              "      <td>1</td>\n",
              "      <td>سلط عمان تعل اغلاق مجال الجو طاير حرب متج يمن</td>\n",
              "    </tr>\n",
              "    <tr>\n",
              "      <th>2</th>\n",
              "      <td>0</td>\n",
              "      <td>تنصح مجل تكنولوجي مان سي مستخدم ضرور تصفح ملف ...</td>\n",
              "    </tr>\n",
              "    <tr>\n",
              "      <th>3</th>\n",
              "      <td>0</td>\n",
              "      <td>كشف شرك سامسونغ اخير مشروع منتظر نيون عبار روب...</td>\n",
              "    </tr>\n",
              "    <tr>\n",
              "      <th>4</th>\n",
              "      <td>0</td>\n",
              "      <td>ودع باريس سان جيرم رنس طول دور ابطال اوروب لكر...</td>\n",
              "    </tr>\n",
              "  </tbody>\n",
              "</table>\n",
              "</div>\n",
              "    <div class=\"colab-df-buttons\">\n",
              "\n",
              "  <div class=\"colab-df-container\">\n",
              "    <button class=\"colab-df-convert\" onclick=\"convertToInteractive('df-944a5e68-2e4c-4c9d-bc63-99270773638e')\"\n",
              "            title=\"Convert this dataframe to an interactive table.\"\n",
              "            style=\"display:none;\">\n",
              "\n",
              "  <svg xmlns=\"http://www.w3.org/2000/svg\" height=\"24px\" viewBox=\"0 -960 960 960\">\n",
              "    <path d=\"M120-120v-720h720v720H120Zm60-500h600v-160H180v160Zm220 220h160v-160H400v160Zm0 220h160v-160H400v160ZM180-400h160v-160H180v160Zm440 0h160v-160H620v160ZM180-180h160v-160H180v160Zm440 0h160v-160H620v160Z\"/>\n",
              "  </svg>\n",
              "    </button>\n",
              "\n",
              "  <style>\n",
              "    .colab-df-container {\n",
              "      display:flex;\n",
              "      gap: 12px;\n",
              "    }\n",
              "\n",
              "    .colab-df-convert {\n",
              "      background-color: #E8F0FE;\n",
              "      border: none;\n",
              "      border-radius: 50%;\n",
              "      cursor: pointer;\n",
              "      display: none;\n",
              "      fill: #1967D2;\n",
              "      height: 32px;\n",
              "      padding: 0 0 0 0;\n",
              "      width: 32px;\n",
              "    }\n",
              "\n",
              "    .colab-df-convert:hover {\n",
              "      background-color: #E2EBFA;\n",
              "      box-shadow: 0px 1px 2px rgba(60, 64, 67, 0.3), 0px 1px 3px 1px rgba(60, 64, 67, 0.15);\n",
              "      fill: #174EA6;\n",
              "    }\n",
              "\n",
              "    .colab-df-buttons div {\n",
              "      margin-bottom: 4px;\n",
              "    }\n",
              "\n",
              "    [theme=dark] .colab-df-convert {\n",
              "      background-color: #3B4455;\n",
              "      fill: #D2E3FC;\n",
              "    }\n",
              "\n",
              "    [theme=dark] .colab-df-convert:hover {\n",
              "      background-color: #434B5C;\n",
              "      box-shadow: 0px 1px 3px 1px rgba(0, 0, 0, 0.15);\n",
              "      filter: drop-shadow(0px 1px 2px rgba(0, 0, 0, 0.3));\n",
              "      fill: #FFFFFF;\n",
              "    }\n",
              "  </style>\n",
              "\n",
              "    <script>\n",
              "      const buttonEl =\n",
              "        document.querySelector('#df-944a5e68-2e4c-4c9d-bc63-99270773638e button.colab-df-convert');\n",
              "      buttonEl.style.display =\n",
              "        google.colab.kernel.accessAllowed ? 'block' : 'none';\n",
              "\n",
              "      async function convertToInteractive(key) {\n",
              "        const element = document.querySelector('#df-944a5e68-2e4c-4c9d-bc63-99270773638e');\n",
              "        const dataTable =\n",
              "          await google.colab.kernel.invokeFunction('convertToInteractive',\n",
              "                                                    [key], {});\n",
              "        if (!dataTable) return;\n",
              "\n",
              "        const docLinkHtml = 'Like what you see? Visit the ' +\n",
              "          '<a target=\"_blank\" href=https://colab.research.google.com/notebooks/data_table.ipynb>data table notebook</a>'\n",
              "          + ' to learn more about interactive tables.';\n",
              "        element.innerHTML = '';\n",
              "        dataTable['output_type'] = 'display_data';\n",
              "        await google.colab.output.renderOutput(dataTable, element);\n",
              "        const docLink = document.createElement('div');\n",
              "        docLink.innerHTML = docLinkHtml;\n",
              "        element.appendChild(docLink);\n",
              "      }\n",
              "    </script>\n",
              "  </div>\n",
              "\n",
              "\n",
              "<div id=\"df-c926ace6-bc8f-41c9-9642-7eed0dc309a1\">\n",
              "  <button class=\"colab-df-quickchart\" onclick=\"quickchart('df-c926ace6-bc8f-41c9-9642-7eed0dc309a1')\"\n",
              "            title=\"Suggest charts\"\n",
              "            style=\"display:none;\">\n",
              "\n",
              "<svg xmlns=\"http://www.w3.org/2000/svg\" height=\"24px\"viewBox=\"0 0 24 24\"\n",
              "     width=\"24px\">\n",
              "    <g>\n",
              "        <path d=\"M19 3H5c-1.1 0-2 .9-2 2v14c0 1.1.9 2 2 2h14c1.1 0 2-.9 2-2V5c0-1.1-.9-2-2-2zM9 17H7v-7h2v7zm4 0h-2V7h2v10zm4 0h-2v-4h2v4z\"/>\n",
              "    </g>\n",
              "</svg>\n",
              "  </button>\n",
              "\n",
              "<style>\n",
              "  .colab-df-quickchart {\n",
              "      --bg-color: #E8F0FE;\n",
              "      --fill-color: #1967D2;\n",
              "      --hover-bg-color: #E2EBFA;\n",
              "      --hover-fill-color: #174EA6;\n",
              "      --disabled-fill-color: #AAA;\n",
              "      --disabled-bg-color: #DDD;\n",
              "  }\n",
              "\n",
              "  [theme=dark] .colab-df-quickchart {\n",
              "      --bg-color: #3B4455;\n",
              "      --fill-color: #D2E3FC;\n",
              "      --hover-bg-color: #434B5C;\n",
              "      --hover-fill-color: #FFFFFF;\n",
              "      --disabled-bg-color: #3B4455;\n",
              "      --disabled-fill-color: #666;\n",
              "  }\n",
              "\n",
              "  .colab-df-quickchart {\n",
              "    background-color: var(--bg-color);\n",
              "    border: none;\n",
              "    border-radius: 50%;\n",
              "    cursor: pointer;\n",
              "    display: none;\n",
              "    fill: var(--fill-color);\n",
              "    height: 32px;\n",
              "    padding: 0;\n",
              "    width: 32px;\n",
              "  }\n",
              "\n",
              "  .colab-df-quickchart:hover {\n",
              "    background-color: var(--hover-bg-color);\n",
              "    box-shadow: 0 1px 2px rgba(60, 64, 67, 0.3), 0 1px 3px 1px rgba(60, 64, 67, 0.15);\n",
              "    fill: var(--button-hover-fill-color);\n",
              "  }\n",
              "\n",
              "  .colab-df-quickchart-complete:disabled,\n",
              "  .colab-df-quickchart-complete:disabled:hover {\n",
              "    background-color: var(--disabled-bg-color);\n",
              "    fill: var(--disabled-fill-color);\n",
              "    box-shadow: none;\n",
              "  }\n",
              "\n",
              "  .colab-df-spinner {\n",
              "    border: 2px solid var(--fill-color);\n",
              "    border-color: transparent;\n",
              "    border-bottom-color: var(--fill-color);\n",
              "    animation:\n",
              "      spin 1s steps(1) infinite;\n",
              "  }\n",
              "\n",
              "  @keyframes spin {\n",
              "    0% {\n",
              "      border-color: transparent;\n",
              "      border-bottom-color: var(--fill-color);\n",
              "      border-left-color: var(--fill-color);\n",
              "    }\n",
              "    20% {\n",
              "      border-color: transparent;\n",
              "      border-left-color: var(--fill-color);\n",
              "      border-top-color: var(--fill-color);\n",
              "    }\n",
              "    30% {\n",
              "      border-color: transparent;\n",
              "      border-left-color: var(--fill-color);\n",
              "      border-top-color: var(--fill-color);\n",
              "      border-right-color: var(--fill-color);\n",
              "    }\n",
              "    40% {\n",
              "      border-color: transparent;\n",
              "      border-right-color: var(--fill-color);\n",
              "      border-top-color: var(--fill-color);\n",
              "    }\n",
              "    60% {\n",
              "      border-color: transparent;\n",
              "      border-right-color: var(--fill-color);\n",
              "    }\n",
              "    80% {\n",
              "      border-color: transparent;\n",
              "      border-right-color: var(--fill-color);\n",
              "      border-bottom-color: var(--fill-color);\n",
              "    }\n",
              "    90% {\n",
              "      border-color: transparent;\n",
              "      border-bottom-color: var(--fill-color);\n",
              "    }\n",
              "  }\n",
              "</style>\n",
              "\n",
              "  <script>\n",
              "    async function quickchart(key) {\n",
              "      const quickchartButtonEl =\n",
              "        document.querySelector('#' + key + ' button');\n",
              "      quickchartButtonEl.disabled = true;  // To prevent multiple clicks.\n",
              "      quickchartButtonEl.classList.add('colab-df-spinner');\n",
              "      try {\n",
              "        const charts = await google.colab.kernel.invokeFunction(\n",
              "            'suggestCharts', [key], {});\n",
              "      } catch (error) {\n",
              "        console.error('Error during call to suggestCharts:', error);\n",
              "      }\n",
              "      quickchartButtonEl.classList.remove('colab-df-spinner');\n",
              "      quickchartButtonEl.classList.add('colab-df-quickchart-complete');\n",
              "    }\n",
              "    (() => {\n",
              "      let quickchartButtonEl =\n",
              "        document.querySelector('#df-c926ace6-bc8f-41c9-9642-7eed0dc309a1 button');\n",
              "      quickchartButtonEl.style.display =\n",
              "        google.colab.kernel.accessAllowed ? 'block' : 'none';\n",
              "    })();\n",
              "  </script>\n",
              "</div>\n",
              "\n",
              "    </div>\n",
              "  </div>\n"
            ],
            "text/plain": [
              "   is_fake                                               news\n",
              "0        1           قصة نافذ فتح عندم يتو نابول لقب دور حقيق\n",
              "1        1      سلط عمان تعل اغلاق مجال الجو طاير حرب متج يمن\n",
              "2        0  تنصح مجل تكنولوجي مان سي مستخدم ضرور تصفح ملف ...\n",
              "3        0  كشف شرك سامسونغ اخير مشروع منتظر نيون عبار روب...\n",
              "4        0  ودع باريس سان جيرم رنس طول دور ابطال اوروب لكر..."
            ]
          },
          "execution_count": 97,
          "metadata": {},
          "output_type": "execute_result"
        }
      ],
      "source": [
        "data.head()"
      ]
    },
    {
      "cell_type": "markdown",
      "metadata": {
        "id": "SgSfF5eM2DFP"
      },
      "source": [
        "TOKENIZATION"
      ]
    },
    {
      "cell_type": "code",
      "execution_count": null,
      "metadata": {
        "id": "q5j_nonI19Ic"
      },
      "outputs": [],
      "source": [
        "# Model Parameters\n",
        "vocab_size = 20000\n",
        "embedding_dim = 128\n",
        "max_length=100\n",
        "trunc_type='post'\n",
        "padding_type='post'\n",
        "oov_tok = \"<OOV>\"\n",
        "num_epochs=5"
      ]
    },
    {
      "cell_type": "code",
      "execution_count": null,
      "metadata": {
        "id": "gpbuBPJM2H8r"
      },
      "outputs": [],
      "source": [
        "# Separate the dependent(target) variable from the independent variable\n",
        "X = data['news'] # Select the 'news' column for features\n",
        "y = data['is_fake'] # Select the 'is_fake' column for target\n"
      ]
    },
    {
      "cell_type": "code",
      "execution_count": null,
      "metadata": {
        "colab": {
          "base_uri": "https://localhost:8080/"
        },
        "id": "Kdqtcc7s2Q23",
        "outputId": "8bf4439f-6b9d-41ea-89cf-9f558249c1ee"
      },
      "outputs": [
        {
          "data": {
            "text/plain": [
              "((21720,), (21720,))"
            ]
          },
          "execution_count": 105,
          "metadata": {},
          "output_type": "execute_result"
        }
      ],
      "source": [
        "\n",
        "X.shape,y.shape"
      ]
    },
    {
      "cell_type": "code",
      "execution_count": null,
      "metadata": {
        "id": "Q7y1C7w62YS7"
      },
      "outputs": [],
      "source": [
        "# Split the data into train, validation and test splits\n",
        "X_train,X_temp, y_train, y_temp = train_test_split(X, y, test_size=0.4, random_state=42)\n",
        "X_valid, X_test, y_valid, y_test = train_test_split(X_temp, y_temp, test_size=0.5, random_state=42)"
      ]
    },
    {
      "cell_type": "code",
      "execution_count": null,
      "metadata": {
        "colab": {
          "base_uri": "https://localhost:8080/"
        },
        "id": "jIJkYr_w2fEQ",
        "outputId": "9ab9f9f2-35c8-4c05-e06b-bffea958d544"
      },
      "outputs": [
        {
          "data": {
            "text/plain": [
              "((13032,), (4344,))"
            ]
          },
          "execution_count": 102,
          "metadata": {},
          "output_type": "execute_result"
        }
      ],
      "source": [
        "y_train.shape,y_valid.shape\n"
      ]
    },
    {
      "cell_type": "code",
      "execution_count": null,
      "metadata": {
        "id": "UjaUTCNu2hO8"
      },
      "outputs": [],
      "source": [
        "# Instanciate Tokenizer\n",
        "tokenizer=Tokenizer(num_words=vocab_size,oov_token=oov_tok)\n",
        "# Fit tokenizer on training sentences\n",
        "tokenizer.fit_on_texts(X_train.tolist())\n",
        "#word_index=tokenizer.word_index\n",
        "\n",
        "# Create training sequences\n",
        "training_sequences=tokenizer.texts_to_sequences(X_train.tolist())\n",
        "# Add padding to the sequences\n",
        "training_to_padded=pad_sequences(training_sequences,maxlen=max_length, padding=padding_type,truncating=trunc_type)\n",
        "\n",
        "# Create validation sequences\n",
        "validation_sequences=tokenizer.texts_to_sequences(X_valid.tolist())\n",
        "# Add padding to the sequences\n",
        "validation_to_padded=pad_sequences(validation_sequences,maxlen=max_length, padding=padding_type,truncating=trunc_type)\n",
        "\n",
        "# Create testing sequences\n",
        "testing_sequences=tokenizer.texts_to_sequences(X_test.tolist())\n",
        "# Add padding to the sequences\n",
        "testing_to_padded=pad_sequences(testing_sequences, maxlen=max_length, padding=padding_type,truncating=trunc_type)"
      ]
    },
    {
      "cell_type": "code",
      "execution_count": null,
      "metadata": {
        "colab": {
          "base_uri": "https://localhost:8080/"
        },
        "id": "OUM8ccjX2lc7",
        "outputId": "83cec662-294a-4d20-a039-c5d25ac1e132"
      },
      "outputs": [
        {
          "name": "stdout",
          "output_type": "stream",
          "text": [
            "[ 547 1641 1013    4 1430 6354  647  114    0    0    0    0    0    0\n",
            "    0    0    0    0    0    0    0    0    0    0    0    0    0    0\n",
            "    0    0    0    0    0    0    0    0    0    0    0    0    0    0\n",
            "    0    0    0    0    0    0    0    0    0    0    0    0    0    0\n",
            "    0    0    0    0    0    0    0    0    0    0    0    0    0    0\n",
            "    0    0    0    0    0    0    0    0    0    0    0    0    0    0\n",
            "    0    0    0    0    0    0    0    0    0    0    0    0    0    0\n",
            "    0    0]\n"
          ]
        },
        {
          "data": {
            "text/plain": [
              "(4344, 100)"
            ]
          },
          "execution_count": 110,
          "metadata": {},
          "output_type": "execute_result"
        }
      ],
      "source": [
        "# check the if the sequencing and padding occured as expected\n",
        "print(validation_to_padded[0])\n",
        "validation_to_padded.shape"
      ]
    },
    {
      "cell_type": "markdown",
      "metadata": {
        "id": "GfL267Mb2033"
      },
      "source": [
        "## LSTM MODEL"
      ]
    },
    {
      "cell_type": "markdown",
      "metadata": {
        "id": "KcseLgXq25Nq"
      },
      "source": [
        "LSTM MODEL CONSTRUCTION"
      ]
    },
    {
      "cell_type": "code",
      "execution_count": null,
      "metadata": {
        "id": "7T4Qs15r2wVz"
      },
      "outputs": [],
      "source": [
        "# Construct model using keras layers\n",
        "model_lstm=tf.keras.Sequential(\n",
        "    [\n",
        "        # Embedding Layer\n",
        "        tf.keras.layers.Embedding(vocab_size,embedding_dim),\n",
        "        #tf.keras.layers.SpatialDropout1D(0.3),\n",
        "        tf.keras.layers.LSTM(embedding_dim,recurrent_dropout=0.3),\n",
        "        tf.keras.layers.Dropout(0.2),\n",
        "        tf.keras.layers.Dense(embedding_dim, activation='relu'),\n",
        "        tf.keras.layers.Dropout(0.2),\n",
        "        # Dense Layer with Sigmoid Activation Function (Because this is a Binary classification, real or fake)\n",
        "        tf.keras.layers.Dense(1, activation='sigmoid')\n",
        "    ]\n",
        ")"
      ]
    },
    {
      "cell_type": "code",
      "execution_count": null,
      "metadata": {
        "colab": {
          "base_uri": "https://localhost:8080/",
          "height": 340
        },
        "id": "GeYlaOUK24n0",
        "outputId": "9b7b3312-b761-432a-d4a8-f357e5b7d4a5"
      },
      "outputs": [
        {
          "data": {
            "text/html": [
              "<pre style=\"white-space:pre;overflow-x:auto;line-height:normal;font-family:Menlo,'DejaVu Sans Mono',consolas,'Courier New',monospace\"><span style=\"font-weight: bold\">Model: \"sequential_4\"</span>\n",
              "</pre>\n"
            ],
            "text/plain": [
              "\u001b[1mModel: \"sequential_4\"\u001b[0m\n"
            ]
          },
          "metadata": {},
          "output_type": "display_data"
        },
        {
          "data": {
            "text/html": [
              "<pre style=\"white-space:pre;overflow-x:auto;line-height:normal;font-family:Menlo,'DejaVu Sans Mono',consolas,'Courier New',monospace\">┏━━━━━━━━━━━━━━━━━━━━━━━━━━━━━━━━━━━━━━┳━━━━━━━━━━━━━━━━━━━━━━━━━━━━━┳━━━━━━━━━━━━━━━━━┓\n",
              "┃<span style=\"font-weight: bold\"> Layer (type)                         </span>┃<span style=\"font-weight: bold\"> Output Shape                </span>┃<span style=\"font-weight: bold\">         Param # </span>┃\n",
              "┡━━━━━━━━━━━━━━━━━━━━━━━━━━━━━━━━━━━━━━╇━━━━━━━━━━━━━━━━━━━━━━━━━━━━━╇━━━━━━━━━━━━━━━━━┩\n",
              "│ embedding_4 (<span style=\"color: #0087ff; text-decoration-color: #0087ff\">Embedding</span>)              │ ?                           │     <span style=\"color: #00af00; text-decoration-color: #00af00\">0</span> (unbuilt) │\n",
              "├──────────────────────────────────────┼─────────────────────────────┼─────────────────┤\n",
              "│ lstm_4 (<span style=\"color: #0087ff; text-decoration-color: #0087ff\">LSTM</span>)                        │ ?                           │     <span style=\"color: #00af00; text-decoration-color: #00af00\">0</span> (unbuilt) │\n",
              "├──────────────────────────────────────┼─────────────────────────────┼─────────────────┤\n",
              "│ dropout_11 (<span style=\"color: #0087ff; text-decoration-color: #0087ff\">Dropout</span>)                 │ ?                           │               <span style=\"color: #00af00; text-decoration-color: #00af00\">0</span> │\n",
              "├──────────────────────────────────────┼─────────────────────────────┼─────────────────┤\n",
              "│ dense_9 (<span style=\"color: #0087ff; text-decoration-color: #0087ff\">Dense</span>)                      │ ?                           │     <span style=\"color: #00af00; text-decoration-color: #00af00\">0</span> (unbuilt) │\n",
              "├──────────────────────────────────────┼─────────────────────────────┼─────────────────┤\n",
              "│ dropout_12 (<span style=\"color: #0087ff; text-decoration-color: #0087ff\">Dropout</span>)                 │ ?                           │               <span style=\"color: #00af00; text-decoration-color: #00af00\">0</span> │\n",
              "├──────────────────────────────────────┼─────────────────────────────┼─────────────────┤\n",
              "│ dense_10 (<span style=\"color: #0087ff; text-decoration-color: #0087ff\">Dense</span>)                     │ ?                           │     <span style=\"color: #00af00; text-decoration-color: #00af00\">0</span> (unbuilt) │\n",
              "└──────────────────────────────────────┴─────────────────────────────┴─────────────────┘\n",
              "</pre>\n"
            ],
            "text/plain": [
              "┏━━━━━━━━━━━━━━━━━━━━━━━━━━━━━━━━━━━━━━┳━━━━━━━━━━━━━━━━━━━━━━━━━━━━━┳━━━━━━━━━━━━━━━━━┓\n",
              "┃\u001b[1m \u001b[0m\u001b[1mLayer (type)                        \u001b[0m\u001b[1m \u001b[0m┃\u001b[1m \u001b[0m\u001b[1mOutput Shape               \u001b[0m\u001b[1m \u001b[0m┃\u001b[1m \u001b[0m\u001b[1m        Param #\u001b[0m\u001b[1m \u001b[0m┃\n",
              "┡━━━━━━━━━━━━━━━━━━━━━━━━━━━━━━━━━━━━━━╇━━━━━━━━━━━━━━━━━━━━━━━━━━━━━╇━━━━━━━━━━━━━━━━━┩\n",
              "│ embedding_4 (\u001b[38;5;33mEmbedding\u001b[0m)              │ ?                           │     \u001b[38;5;34m0\u001b[0m (unbuilt) │\n",
              "├──────────────────────────────────────┼─────────────────────────────┼─────────────────┤\n",
              "│ lstm_4 (\u001b[38;5;33mLSTM\u001b[0m)                        │ ?                           │     \u001b[38;5;34m0\u001b[0m (unbuilt) │\n",
              "├──────────────────────────────────────┼─────────────────────────────┼─────────────────┤\n",
              "│ dropout_11 (\u001b[38;5;33mDropout\u001b[0m)                 │ ?                           │               \u001b[38;5;34m0\u001b[0m │\n",
              "├──────────────────────────────────────┼─────────────────────────────┼─────────────────┤\n",
              "│ dense_9 (\u001b[38;5;33mDense\u001b[0m)                      │ ?                           │     \u001b[38;5;34m0\u001b[0m (unbuilt) │\n",
              "├──────────────────────────────────────┼─────────────────────────────┼─────────────────┤\n",
              "│ dropout_12 (\u001b[38;5;33mDropout\u001b[0m)                 │ ?                           │               \u001b[38;5;34m0\u001b[0m │\n",
              "├──────────────────────────────────────┼─────────────────────────────┼─────────────────┤\n",
              "│ dense_10 (\u001b[38;5;33mDense\u001b[0m)                     │ ?                           │     \u001b[38;5;34m0\u001b[0m (unbuilt) │\n",
              "└──────────────────────────────────────┴─────────────────────────────┴─────────────────┘\n"
            ]
          },
          "metadata": {},
          "output_type": "display_data"
        },
        {
          "data": {
            "text/html": [
              "<pre style=\"white-space:pre;overflow-x:auto;line-height:normal;font-family:Menlo,'DejaVu Sans Mono',consolas,'Courier New',monospace\"><span style=\"font-weight: bold\"> Total params: </span><span style=\"color: #00af00; text-decoration-color: #00af00\">0</span> (0.00 B)\n",
              "</pre>\n"
            ],
            "text/plain": [
              "\u001b[1m Total params: \u001b[0m\u001b[38;5;34m0\u001b[0m (0.00 B)\n"
            ]
          },
          "metadata": {},
          "output_type": "display_data"
        },
        {
          "data": {
            "text/html": [
              "<pre style=\"white-space:pre;overflow-x:auto;line-height:normal;font-family:Menlo,'DejaVu Sans Mono',consolas,'Courier New',monospace\"><span style=\"font-weight: bold\"> Trainable params: </span><span style=\"color: #00af00; text-decoration-color: #00af00\">0</span> (0.00 B)\n",
              "</pre>\n"
            ],
            "text/plain": [
              "\u001b[1m Trainable params: \u001b[0m\u001b[38;5;34m0\u001b[0m (0.00 B)\n"
            ]
          },
          "metadata": {},
          "output_type": "display_data"
        },
        {
          "data": {
            "text/html": [
              "<pre style=\"white-space:pre;overflow-x:auto;line-height:normal;font-family:Menlo,'DejaVu Sans Mono',consolas,'Courier New',monospace\"><span style=\"font-weight: bold\"> Non-trainable params: </span><span style=\"color: #00af00; text-decoration-color: #00af00\">0</span> (0.00 B)\n",
              "</pre>\n"
            ],
            "text/plain": [
              "\u001b[1m Non-trainable params: \u001b[0m\u001b[38;5;34m0\u001b[0m (0.00 B)\n"
            ]
          },
          "metadata": {},
          "output_type": "display_data"
        }
      ],
      "source": [
        "# LSTM Model Summary\n",
        "model_lstm.summary()"
      ]
    },
    {
      "cell_type": "code",
      "execution_count": null,
      "metadata": {
        "colab": {
          "base_uri": "https://localhost:8080/"
        },
        "id": "QZ9sWUS12-sx",
        "outputId": "97294c19-732c-403b-df79-32f1165ebc9e"
      },
      "outputs": [
        {
          "name": "stderr",
          "output_type": "stream",
          "text": [
            "WARNING:absl:You are saving your model as an HDF5 file via `model.save()` or `keras.saving.save_model(model)`. This file format is considered legacy. We recommend using instead the native Keras format, e.g. `model.save('my_model.keras')` or `keras.saving.save_model(model, 'my_model.keras')`. \n"
          ]
        }
      ],
      "source": [
        "# Save the model\n",
        "model_lstm.save('model_lstm_new.h5')"
      ]
    },
    {
      "cell_type": "code",
      "execution_count": null,
      "metadata": {
        "id": "lUK4aKH33IMq"
      },
      "outputs": [],
      "source": [
        "# Learning rate schedule\n",
        "def lr_schedule(epoch, lr):\n",
        "    if epoch > 5:\n",
        "        return lr * 0.5\n",
        "    return lr\n",
        "\n",
        "# Initial learning rate\n",
        "learning_rate = 0.001\n",
        "optimizer = tf.keras.optimizers.Adam(learning_rate=learning_rate)\n",
        "\n",
        "model_lstm.compile(optimizer=optimizer, loss='binary_crossentropy', metrics=['accuracy'])"
      ]
    },
    {
      "cell_type": "markdown",
      "metadata": {
        "id": "fB0nEfTK3oDR"
      },
      "source": [
        "LSTM TRAINING"
      ]
    },
    {
      "cell_type": "code",
      "execution_count": null,
      "metadata": {
        "colab": {
          "base_uri": "https://localhost:8080/"
        },
        "id": "mRs8j-9A3lPD",
        "outputId": "fb218162-84e2-4857-84ff-fa3d7b07cdfe"
      },
      "outputs": [
        {
          "name": "stdout",
          "output_type": "stream",
          "text": [
            "Epoch 1/5\n",
            "204/204 - 75s - 366ms/step - accuracy: 0.9112 - loss: 0.2865 - val_accuracy: 0.9392 - val_loss: 0.2140\n",
            "Epoch 2/5\n",
            "204/204 - 66s - 323ms/step - accuracy: 0.9379 - loss: 0.1993 - val_accuracy: 0.9210 - val_loss: 0.2156\n",
            "Epoch 3/5\n",
            "204/204 - 66s - 322ms/step - accuracy: 0.9434 - loss: 0.1727 - val_accuracy: 0.9291 - val_loss: 0.2269\n",
            "Epoch 4/5\n",
            "204/204 - 66s - 324ms/step - accuracy: 0.9378 - loss: 0.1941 - val_accuracy: 0.9749 - val_loss: 0.0986\n",
            "Epoch 5/5\n",
            "204/204 - 83s - 407ms/step - accuracy: 0.9804 - loss: 0.0765 - val_accuracy: 0.9880 - val_loss: 0.0567\n"
          ]
        }
      ],
      "source": [
        "# Model training and validation\n",
        "history=model_lstm.fit(training_to_padded,\n",
        "                       np.array(y_train),\n",
        "                       epochs=num_epochs,\n",
        "                       batch_size=64,\n",
        "                       validation_data=(validation_to_padded,np.array(y_valid)),\n",
        "                       verbose=2 )"
      ]
    },
    {
      "cell_type": "code",
      "execution_count": null,
      "metadata": {
        "colab": {
          "base_uri": "https://localhost:8080/",
          "height": 586
        },
        "id": "XhipZ9eG3wyU",
        "outputId": "987d77f2-64b2-47e4-89f4-b1d351926fc8"
      },
      "outputs": [
        {
          "data": {
            "image/png": "[encoded data removed]",
            "text/plain": [
              "<Figure size 1200x600 with 2 Axes>"
            ]
          },
          "metadata": {},
          "output_type": "display_data"
        }
      ],
      "source": [
        "# Plots training and validation loss and accuracy history for better analysis\n",
        "def plot_history(history):\n",
        "    # Get training and validation loss\n",
        "    loss = history.history['loss']\n",
        "    val_loss = history.history['val_loss']\n",
        "\n",
        "    # Get training and validation accuracy\n",
        "    acc = history.history['accuracy']\n",
        "    val_acc = history.history['val_accuracy']\n",
        "\n",
        "    # Plot training and validation loss\n",
        "    plt.figure(figsize=(12, 6))\n",
        "    plt.subplot(1, 2, 1)\n",
        "    plt.plot(loss, label='Training Loss')\n",
        "    plt.plot(val_loss, label='Validation Loss')\n",
        "    plt.title('Training and Validation Loss')\n",
        "    plt.xlabel('Epoch')\n",
        "    plt.ylabel('Loss')\n",
        "    plt.legend()\n",
        "\n",
        "    # Plot training and validation accuracy\n",
        "    plt.subplot(1, 2, 2)\n",
        "    plt.plot(acc, label='Training Accuracy')\n",
        "    plt.plot(val_acc, label='Validation Accuracy')\n",
        "    plt.title('Training and Validation Accuracy')\n",
        "    plt.xlabel('Epoch')\n",
        "    plt.ylabel('Accuracy')\n",
        "    plt.legend()\n",
        "\n",
        "    plt.tight_layout()\n",
        "    plt.show()\n",
        "\n",
        "# Assuming you have trained your model and stored the history in a variable named 'history'\n",
        "plot_history(history)"
      ]
    },
    {
      "cell_type": "markdown",
      "metadata": {
        "id": "KQQ97U214Be6"
      },
      "source": [
        "LSTM Testing"
      ]
    },
    {
      "cell_type": "code",
      "execution_count": null,
      "metadata": {
        "colab": {
          "base_uri": "https://localhost:8080/"
        },
        "id": "TvRG0UyU36io",
        "outputId": "e7ea71f9-b059-4462-c6e5-ae6a41a9d939"
      },
      "outputs": [
        {
          "name": "stderr",
          "output_type": "stream",
          "text": [
            "WARNING:tensorflow:5 out of the last 15 calls to <function TensorFlowTrainer.make_predict_function.<locals>.one_step_on_data_distributed at 0x79f905cd0e00> triggered tf.function retracing. Tracing is expensive and the excessive number of tracings could be due to (1) creating @tf.function repeatedly in a loop, (2) passing tensors with different shapes, (3) passing Python objects instead of tensors. For (1), please define your @tf.function outside of the loop. For (2), @tf.function has reduce_retracing=True option that can avoid unnecessary retracing. For (3), please refer to https://www.tensorflow.org/guide/function#controlling_retracing and https://www.tensorflow.org/api_docs/python/tf/function for  more details.\n"
          ]
        },
        {
          "name": "stdout",
          "output_type": "stream",
          "text": [
            "\u001b[1m136/136\u001b[0m \u001b[32m━━━━━━━━━━━━━━━━━━━━\u001b[0m\u001b[37m\u001b[0m \u001b[1m7s\u001b[0m 46ms/step\n"
          ]
        }
      ],
      "source": [
        "# Make predicitons of the test data\n",
        "lstm_predictions=model_lstm.predict(testing_to_padded)"
      ]
    },
    {
      "cell_type": "code",
      "execution_count": null,
      "metadata": {
        "id": "kPh5-zbO4FbL"
      },
      "outputs": [],
      "source": [
        "# Round the predictions to the nearest integers (0 or 1)\n",
        "lstm_predictions=lstm_predictions.round()"
      ]
    },
    {
      "cell_type": "code",
      "execution_count": null,
      "metadata": {
        "colab": {
          "base_uri": "https://localhost:8080/"
        },
        "id": "i_yk_yQT4HlK",
        "outputId": "7c17b227-8bc0-42eb-a8a2-410233ecfa5d"
      },
      "outputs": [
        {
          "data": {
            "text/plain": [
              "array([[1.],\n",
              "       [0.],\n",
              "       [0.],\n",
              "       ...,\n",
              "       [0.],\n",
              "       [0.],\n",
              "       [0.]], dtype=float32)"
            ]
          },
          "execution_count": 119,
          "metadata": {},
          "output_type": "execute_result"
        }
      ],
      "source": [
        "lstm_predictions"
      ]
    },
    {
      "cell_type": "markdown",
      "metadata": {
        "id": "T7V2fRCc4O9O"
      },
      "source": [
        "LSTM MODEL EVALUATION METRICS"
      ]
    },
    {
      "cell_type": "code",
      "execution_count": null,
      "metadata": {
        "colab": {
          "base_uri": "https://localhost:8080/"
        },
        "id": "LnEhpIJn4KZx",
        "outputId": "617a4576-f4c3-4821-fae9-1bac962d7dee"
      },
      "outputs": [
        {
          "name": "stdout",
          "output_type": "stream",
          "text": [
            "Precision: 0.9864549276039234\n",
            "Recall: 0.9855342977134858\n",
            "F1-score: 0.9859943977591037\n"
          ]
        }
      ],
      "source": [
        "from sklearn.metrics import precision_score, recall_score, f1_score\n",
        "\n",
        "# Calculate precision, recall, and f1-score\n",
        "precision = precision_score(y_test, lstm_predictions)\n",
        "recall = recall_score(y_test, lstm_predictions)\n",
        "f1 = f1_score(y_test, lstm_predictions)\n",
        "\n",
        "print(\"Precision:\", precision)\n",
        "print(\"Recall:\", recall)\n",
        "print(\"F1-score:\", f1)"
      ]
    },
    {
      "cell_type": "markdown",
      "metadata": {
        "id": "wK39Tl9D4XAL"
      },
      "source": [
        "BI-LSTM MODEL"
      ]
    },
    {
      "cell_type": "code",
      "execution_count": null,
      "metadata": {
        "id": "BayQuqU94SSN"
      },
      "outputs": [],
      "source": [
        "# Regularization parameter\n",
        "l2_reg = 1e-2\n",
        "\n",
        "# Construct model using keras layers\n",
        "model_bilstm=tf.keras.Sequential(\n",
        "    [\n",
        "        # Embedding Layer\n",
        "        tf.keras.layers.Embedding(vocab_size,embedding_dim),\n",
        "        tf.keras.layers.Dropout(0.5),\n",
        "        # Supperposed LSTM Layers to form a Bidirectional LSTM Layer\n",
        "        tf.keras.layers.Bidirectional(tf.keras.layers.LSTM(embedding_dim,recurrent_dropout=0.5, kernel_regularizer=l2(l2_reg))),\n",
        "        tf.keras.layers.Dropout(0.5),\n",
        "        # Dense Layer with ReLU\n",
        "        tf.keras.layers.Dense(embedding_dim, activation='relu', kernel_regularizer=l2(l2_reg)),\n",
        "        tf.keras.layers.Dropout(0.5),\n",
        "        # Dense Layer with Sigmoid Activation Function (Because this is a Binary classification, real or fake)\n",
        "        tf.keras.layers.Dense(1, activation='sigmoid', kernel_regularizer=l2(l2_reg))\n",
        "    ]\n",
        ")"
      ]
    },
    {
      "cell_type": "code",
      "execution_count": null,
      "metadata": {
        "colab": {
          "base_uri": "https://localhost:8080/",
          "height": 374
        },
        "id": "VcRJiEVg4aHc",
        "outputId": "514e489c-7d05-4aa2-af10-74883a3b97d9"
      },
      "outputs": [
        {
          "data": {
            "text/html": [
              "<pre style=\"white-space:pre;overflow-x:auto;line-height:normal;font-family:Menlo,'DejaVu Sans Mono',consolas,'Courier New',monospace\"><span style=\"font-weight: bold\">Model: \"sequential_5\"</span>\n",
              "</pre>\n"
            ],
            "text/plain": [
              "\u001b[1mModel: \"sequential_5\"\u001b[0m\n"
            ]
          },
          "metadata": {},
          "output_type": "display_data"
        },
        {
          "data": {
            "text/html": [
              "<pre style=\"white-space:pre;overflow-x:auto;line-height:normal;font-family:Menlo,'DejaVu Sans Mono',consolas,'Courier New',monospace\">┏━━━━━━━━━━━━━━━━━━━━━━━━━━━━━━━━━━━━━━┳━━━━━━━━━━━━━━━━━━━━━━━━━━━━━┳━━━━━━━━━━━━━━━━━┓\n",
              "┃<span style=\"font-weight: bold\"> Layer (type)                         </span>┃<span style=\"font-weight: bold\"> Output Shape                </span>┃<span style=\"font-weight: bold\">         Param # </span>┃\n",
              "┡━━━━━━━━━━━━━━━━━━━━━━━━━━━━━━━━━━━━━━╇━━━━━━━━━━━━━━━━━━━━━━━━━━━━━╇━━━━━━━━━━━━━━━━━┩\n",
              "│ embedding_5 (<span style=\"color: #0087ff; text-decoration-color: #0087ff\">Embedding</span>)              │ ?                           │     <span style=\"color: #00af00; text-decoration-color: #00af00\">0</span> (unbuilt) │\n",
              "├──────────────────────────────────────┼─────────────────────────────┼─────────────────┤\n",
              "│ dropout_13 (<span style=\"color: #0087ff; text-decoration-color: #0087ff\">Dropout</span>)                 │ ?                           │               <span style=\"color: #00af00; text-decoration-color: #00af00\">0</span> │\n",
              "├──────────────────────────────────────┼─────────────────────────────┼─────────────────┤\n",
              "│ bidirectional_3 (<span style=\"color: #0087ff; text-decoration-color: #0087ff\">Bidirectional</span>)      │ ?                           │     <span style=\"color: #00af00; text-decoration-color: #00af00\">0</span> (unbuilt) │\n",
              "├──────────────────────────────────────┼─────────────────────────────┼─────────────────┤\n",
              "│ dropout_14 (<span style=\"color: #0087ff; text-decoration-color: #0087ff\">Dropout</span>)                 │ ?                           │               <span style=\"color: #00af00; text-decoration-color: #00af00\">0</span> │\n",
              "├──────────────────────────────────────┼─────────────────────────────┼─────────────────┤\n",
              "│ dense_11 (<span style=\"color: #0087ff; text-decoration-color: #0087ff\">Dense</span>)                     │ ?                           │     <span style=\"color: #00af00; text-decoration-color: #00af00\">0</span> (unbuilt) │\n",
              "├──────────────────────────────────────┼─────────────────────────────┼─────────────────┤\n",
              "│ dropout_15 (<span style=\"color: #0087ff; text-decoration-color: #0087ff\">Dropout</span>)                 │ ?                           │               <span style=\"color: #00af00; text-decoration-color: #00af00\">0</span> │\n",
              "├──────────────────────────────────────┼─────────────────────────────┼─────────────────┤\n",
              "│ dense_12 (<span style=\"color: #0087ff; text-decoration-color: #0087ff\">Dense</span>)                     │ ?                           │     <span style=\"color: #00af00; text-decoration-color: #00af00\">0</span> (unbuilt) │\n",
              "└──────────────────────────────────────┴─────────────────────────────┴─────────────────┘\n",
              "</pre>\n"
            ],
            "text/plain": [
              "┏━━━━━━━━━━━━━━━━━━━━━━━━━━━━━━━━━━━━━━┳━━━━━━━━━━━━━━━━━━━━━━━━━━━━━┳━━━━━━━━━━━━━━━━━┓\n",
              "┃\u001b[1m \u001b[0m\u001b[1mLayer (type)                        \u001b[0m\u001b[1m \u001b[0m┃\u001b[1m \u001b[0m\u001b[1mOutput Shape               \u001b[0m\u001b[1m \u001b[0m┃\u001b[1m \u001b[0m\u001b[1m        Param #\u001b[0m\u001b[1m \u001b[0m┃\n",
              "┡━━━━━━━━━━━━━━━━━━━━━━━━━━━━━━━━━━━━━━╇━━━━━━━━━━━━━━━━━━━━━━━━━━━━━╇━━━━━━━━━━━━━━━━━┩\n",
              "│ embedding_5 (\u001b[38;5;33mEmbedding\u001b[0m)              │ ?                           │     \u001b[38;5;34m0\u001b[0m (unbuilt) │\n",
              "├──────────────────────────────────────┼─────────────────────────────┼─────────────────┤\n",
              "│ dropout_13 (\u001b[38;5;33mDropout\u001b[0m)                 │ ?                           │               \u001b[38;5;34m0\u001b[0m │\n",
              "├──────────────────────────────────────┼─────────────────────────────┼─────────────────┤\n",
              "│ bidirectional_3 (\u001b[38;5;33mBidirectional\u001b[0m)      │ ?                           │     \u001b[38;5;34m0\u001b[0m (unbuilt) │\n",
              "├──────────────────────────────────────┼─────────────────────────────┼─────────────────┤\n",
              "│ dropout_14 (\u001b[38;5;33mDropout\u001b[0m)                 │ ?                           │               \u001b[38;5;34m0\u001b[0m │\n",
              "├──────────────────────────────────────┼─────────────────────────────┼─────────────────┤\n",
              "│ dense_11 (\u001b[38;5;33mDense\u001b[0m)                     │ ?                           │     \u001b[38;5;34m0\u001b[0m (unbuilt) │\n",
              "├──────────────────────────────────────┼─────────────────────────────┼─────────────────┤\n",
              "│ dropout_15 (\u001b[38;5;33mDropout\u001b[0m)                 │ ?                           │               \u001b[38;5;34m0\u001b[0m │\n",
              "├──────────────────────────────────────┼─────────────────────────────┼─────────────────┤\n",
              "│ dense_12 (\u001b[38;5;33mDense\u001b[0m)                     │ ?                           │     \u001b[38;5;34m0\u001b[0m (unbuilt) │\n",
              "└──────────────────────────────────────┴─────────────────────────────┴─────────────────┘\n"
            ]
          },
          "metadata": {},
          "output_type": "display_data"
        },
        {
          "data": {
            "text/html": [
              "<pre style=\"white-space:pre;overflow-x:auto;line-height:normal;font-family:Menlo,'DejaVu Sans Mono',consolas,'Courier New',monospace\"><span style=\"font-weight: bold\"> Total params: </span><span style=\"color: #00af00; text-decoration-color: #00af00\">0</span> (0.00 B)\n",
              "</pre>\n"
            ],
            "text/plain": [
              "\u001b[1m Total params: \u001b[0m\u001b[38;5;34m0\u001b[0m (0.00 B)\n"
            ]
          },
          "metadata": {},
          "output_type": "display_data"
        },
        {
          "data": {
            "text/html": [
              "<pre style=\"white-space:pre;overflow-x:auto;line-height:normal;font-family:Menlo,'DejaVu Sans Mono',consolas,'Courier New',monospace\"><span style=\"font-weight: bold\"> Trainable params: </span><span style=\"color: #00af00; text-decoration-color: #00af00\">0</span> (0.00 B)\n",
              "</pre>\n"
            ],
            "text/plain": [
              "\u001b[1m Trainable params: \u001b[0m\u001b[38;5;34m0\u001b[0m (0.00 B)\n"
            ]
          },
          "metadata": {},
          "output_type": "display_data"
        },
        {
          "data": {
            "text/html": [
              "<pre style=\"white-space:pre;overflow-x:auto;line-height:normal;font-family:Menlo,'DejaVu Sans Mono',consolas,'Courier New',monospace\"><span style=\"font-weight: bold\"> Non-trainable params: </span><span style=\"color: #00af00; text-decoration-color: #00af00\">0</span> (0.00 B)\n",
              "</pre>\n"
            ],
            "text/plain": [
              "\u001b[1m Non-trainable params: \u001b[0m\u001b[38;5;34m0\u001b[0m (0.00 B)\n"
            ]
          },
          "metadata": {},
          "output_type": "display_data"
        }
      ],
      "source": [
        "# Bi-LSTM Model Summary\n",
        "model_bilstm.summary()"
      ]
    },
    {
      "cell_type": "code",
      "execution_count": null,
      "metadata": {
        "colab": {
          "base_uri": "https://localhost:8080/"
        },
        "id": "dfVd1u3_4jbS",
        "outputId": "6c468bde-4c8f-4c48-8008-ca46f41b6892"
      },
      "outputs": [
        {
          "name": "stderr",
          "output_type": "stream",
          "text": [
            "WARNING:absl:You are saving your model as an HDF5 file via `model.save()` or `keras.saving.save_model(model)`. This file format is considered legacy. We recommend using instead the native Keras format, e.g. `model.save('my_model.keras')` or `keras.saving.save_model(model, 'my_model.keras')`. \n"
          ]
        }
      ],
      "source": [
        "# Save the model\n",
        "model_bilstm.save('model_bilstm_new.h5')"
      ]
    },
    {
      "cell_type": "code",
      "execution_count": null,
      "metadata": {
        "id": "VWgulXuw4odH"
      },
      "outputs": [],
      "source": [
        "# Save model architecture to JSON\n",
        "#model_json = model_bilstm.to_json()\n",
        "#with open(\"model_bilstm.json\", \"w\") as json_file:\n",
        " #   json_file.write(model_json)\n",
        "\n",
        "# Save weights to HDF5\n",
        "#model_bilstm.save_weights(\"model_bilstm_weights.weights.h5\")"
      ]
    },
    {
      "cell_type": "code",
      "execution_count": null,
      "metadata": {
        "id": "pgKBmxxS4c8k"
      },
      "outputs": [],
      "source": [
        "# Learning rate schedule\n",
        "def lr_schedule(epoch, lr):\n",
        "    if epoch > 5:\n",
        "        return lr * 0.5\n",
        "    return lr\n",
        "\n",
        "# Initial learning rate\n",
        "learning_rate = 0.001\n",
        "\n",
        "# set optimizer and pass the learning rate\n",
        "optimizer = tf.keras.optimizers.Adam(learning_rate=learning_rate)\n",
        "# Fixing Training Parameters\n",
        "model_bilstm.compile(loss='binary_crossentropy', optimizer=optimizer, metrics=['accuracy'] )\n",
        "\n",
        "# # Early stopping callback\n",
        "# early_stopping = EarlyStopping(monitor='val_loss', patience=3, restore_best_weights=True)\n",
        "\n",
        "# # Learning rate scheduler callback\n",
        "# reduce_lr = ReduceLROnPlateau(monitor='val_loss', factor=0.5, patience=2, min_lr=1e-6)"
      ]
    },
    {
      "cell_type": "markdown",
      "metadata": {
        "id": "wIhLAGJC4w7e"
      },
      "source": [
        "BI-LSTM MODEL TRAINING"
      ]
    },
    {
      "cell_type": "code",
      "execution_count": null,
      "metadata": {
        "colab": {
          "base_uri": "https://localhost:8080/"
        },
        "id": "YuiYFxCE4izv",
        "outputId": "2b117fc0-9822-4085-86b4-dd60b3d17a53"
      },
      "outputs": [
        {
          "name": "stdout",
          "output_type": "stream",
          "text": [
            "Epoch 1/5\n",
            "51/51 - 108s - 2s/step - accuracy: 0.8744 - loss: 3.4209 - val_accuracy: 0.9084 - val_loss: 1.4991\n",
            "Epoch 2/5\n",
            "51/51 - 139s - 3s/step - accuracy: 0.8898 - loss: 0.9794 - val_accuracy: 0.9065 - val_loss: 0.6020\n",
            "Epoch 3/5\n",
            "51/51 - 142s - 3s/step - accuracy: 0.8986 - loss: 0.5114 - val_accuracy: 0.9084 - val_loss: 0.4095\n",
            "Epoch 4/5\n",
            "51/51 - 142s - 3s/step - accuracy: 0.8893 - loss: 0.4383 - val_accuracy: 0.9075 - val_loss: 0.3772\n",
            "Epoch 5/5\n",
            "51/51 - 142s - 3s/step - accuracy: 0.7327 - loss: 0.6428 - val_accuracy: 0.9183 - val_loss: 0.5405\n"
          ]
        }
      ],
      "source": [
        "# Model Trainning and Validation\n",
        "history=model_bilstm.fit(training_to_padded,\n",
        "                         np.array(y_train),\n",
        "                         epochs=num_epochs,\n",
        "                         batch_size=256,\n",
        "                         validation_data=(validation_to_padded,np.array(y_valid)),\n",
        "                         verbose=2)"
      ]
    },
    {
      "cell_type": "code",
      "execution_count": null,
      "metadata": {
        "colab": {
          "base_uri": "https://localhost:8080/",
          "height": 586
        },
        "id": "BwhkunRZ42I7",
        "outputId": "6a8a774f-b7aa-4ef0-9d78-6ed495be03ab"
      },
      "outputs": [
        {
          "data": {
            "image/png": "[encoded data removed]",
            "text/plain": [
              "<Figure size 1200x600 with 2 Axes>"
            ]
          },
          "metadata": {},
          "output_type": "display_data"
        }
      ],
      "source": [
        "# Plots training and validation loss and accuracy history for better analysis\n",
        "def plot_history(history):\n",
        "    # Get training and validation loss\n",
        "    loss = history.history['loss']\n",
        "    val_loss = history.history['val_loss']\n",
        "\n",
        "    # Get training and validation accuracy\n",
        "    acc = history.history['accuracy']\n",
        "    val_acc = history.history['val_accuracy']\n",
        "\n",
        "    # Plot training and validation loss\n",
        "    plt.figure(figsize=(12, 6))\n",
        "    plt.subplot(1, 2, 1)\n",
        "    plt.plot(loss, label='Training Loss')\n",
        "    plt.plot(val_loss, label='Validation Loss')\n",
        "    plt.title('Training and Validation Loss')\n",
        "    plt.xlabel('Epoch')\n",
        "    plt.ylabel('Loss')\n",
        "    plt.legend()\n",
        "\n",
        "    # Plot training and validation accuracy\n",
        "    plt.subplot(1, 2, 2)\n",
        "    plt.plot(acc, label='Training Accuracy')\n",
        "    plt.plot(val_acc, label='Validation Accuracy')\n",
        "    plt.title('Training and Validation Accuracy')\n",
        "    plt.xlabel('Epoch')\n",
        "    plt.ylabel('Accuracy')\n",
        "    plt.legend()\n",
        "\n",
        "    plt.tight_layout()\n",
        "    plt.show()\n",
        "\n",
        "# Assuming you have trained your model and stored the history in a variable named 'history'\n",
        "plot_history(history)"
      ]
    },
    {
      "cell_type": "markdown",
      "metadata": {
        "id": "XNp1DySM49Hl"
      },
      "source": [
        "BI-LSTM MODEL TESTING"
      ]
    },
    {
      "cell_type": "code",
      "execution_count": null,
      "metadata": {
        "colab": {
          "base_uri": "https://localhost:8080/"
        },
        "id": "plpFgzFQ46EH",
        "outputId": "6ddbee58-9d51-4b21-e88d-82012d06909d"
      },
      "outputs": [
        {
          "name": "stdout",
          "output_type": "stream",
          "text": [
            "\u001b[1m136/136\u001b[0m \u001b[32m━━━━━━━━━━━━━━━━━━━━\u001b[0m\u001b[37m\u001b[0m \u001b[1m12s\u001b[0m 83ms/step\n"
          ]
        }
      ],
      "source": [
        "bilstm_predictions=model_bilstm.predict(testing_to_padded)"
      ]
    },
    {
      "cell_type": "code",
      "execution_count": null,
      "metadata": {
        "id": "FHT5kxy_4_Md"
      },
      "outputs": [],
      "source": [
        "bilstm_predictions=bilstm_predictions.round()"
      ]
    },
    {
      "cell_type": "code",
      "execution_count": null,
      "metadata": {
        "colab": {
          "base_uri": "https://localhost:8080/"
        },
        "id": "TkkWaD6B5Bq-",
        "outputId": "e1731408-0470-4699-fee2-d737e708e88c"
      },
      "outputs": [
        {
          "data": {
            "text/plain": [
              "array([[1.],\n",
              "       [0.],\n",
              "       [0.],\n",
              "       ...,\n",
              "       [0.],\n",
              "       [0.],\n",
              "       [0.]], dtype=float32)"
            ]
          },
          "execution_count": 130,
          "metadata": {},
          "output_type": "execute_result"
        }
      ],
      "source": [
        "bilstm_predictions"
      ]
    },
    {
      "cell_type": "markdown",
      "metadata": {
        "id": "NxTbWYZV5HuU"
      },
      "source": [
        "BI-LSTM MODEL EVALUATION METRICS"
      ]
    },
    {
      "cell_type": "code",
      "execution_count": null,
      "metadata": {
        "colab": {
          "base_uri": "https://localhost:8080/"
        },
        "id": "elP7c34L5D96",
        "outputId": "c73dee2d-f66a-4b2e-d532-85b123cef584"
      },
      "outputs": [
        {
          "name": "stdout",
          "output_type": "stream",
          "text": [
            "Precision: 0.8662179217501051\n",
            "Recall: 0.9608026131591227\n",
            "F1-score: 0.9110619469026549\n"
          ]
        }
      ],
      "source": [
        "# Calculate precision, recall, and f1-score\n",
        "precision = precision_score(y_test, bilstm_predictions)\n",
        "recall = recall_score(y_test, bilstm_predictions)\n",
        "f1 = f1_score(y_test, bilstm_predictions)\n",
        "\n",
        "print(\"Precision:\", precision)\n",
        "print(\"Recall:\", recall)\n",
        "print(\"F1-score:\", f1)"
      ]
    },
    {
      "cell_type": "code",
      "execution_count": null,
      "metadata": {
        "colab": {
          "base_uri": "https://localhost:8080/",
          "height": 1000
        },
        "id": "3byzZ_Cw5J4F",
        "outputId": "457dd8de-96e3-4e3c-ed95-65f8e075cccd"
      },
      "outputs": [
        {
          "data": {
            "image/png": "[encoded data removed]",
            "text/plain": [
              "<Figure size 800x600 with 2 Axes>"
            ]
          },
          "metadata": {},
          "output_type": "display_data"
        },
        {
          "data": {
            "image/png": "[encoded data removed]",
            "text/plain": [
              "<Figure size 800x600 with 2 Axes>"
            ]
          },
          "metadata": {},
          "output_type": "display_data"
        }
      ],
      "source": [
        "# lstm confusion matrix\n",
        "cm_lstm= confusion_matrix(y_test,lstm_predictions)\n",
        "# bi-lstm confusion matrix\n",
        "cm_bilstm= confusion_matrix(y_test,bilstm_predictions)\n",
        "\n",
        "# Define labels for the matrix\n",
        "labels = ['True Negative', 'False Positive', 'False Negative', 'True Positive']\n",
        "categories = ['0', '1']\n",
        "\n",
        "\n",
        "for i in [cm_lstm,cm_bilstm]:\n",
        "    # Plot confusion matrix\n",
        "    sns.set(font_scale=1.4) # for label size\n",
        "    plt.figure(figsize=(8, 6))\n",
        "    sns.heatmap(i, annot=True, fmt='g', cmap='Blues', xticklabels=categories, yticklabels=categories)\n",
        "    plt.xlabel('Predicted labels')\n",
        "    plt.ylabel('True labels')\n",
        "    if i is cm_lstm:\n",
        "        plt.title('LSTM Confusion Matrix')\n",
        "        plt.show()\n",
        "    else:\n",
        "        plt.title('Bi-LSTM Confusion Matrix')\n",
        "        plt.show()\n"
      ]
    },
    {
      "cell_type": "code",
      "execution_count": null,
      "metadata": {
        "colab": {
          "base_uri": "https://localhost:8080/"
        },
        "id": "zMtD_S2C5O6g",
        "outputId": "522250c5-76b3-4ffb-d6bf-33ed7d829d04"
      },
      "outputs": [
        {
          "name": "stdout",
          "output_type": "stream",
          "text": [
            "LSTM MODEL ACCURACY SCORE:\n",
            "\n",
            "0.9861878453038674\n",
            "\n",
            "LSTM CLASSIFICATION REPORT:\n",
            "\n",
            "              precision    recall  f1-score   support\n",
            "\n",
            "           0       0.99      0.99      0.99      2201\n",
            "           1       0.99      0.99      0.99      2143\n",
            "\n",
            "    accuracy                           0.99      4344\n",
            "   macro avg       0.99      0.99      0.99      4344\n",
            "weighted avg       0.99      0.99      0.99      4344\n",
            "\n",
            "Bi-LSTM MODEL ACCURACY SCORE:\n",
            "\n",
            "0.9074585635359116\n",
            "\n",
            "Bi-LSTM CLASSIFICATION REPORT:\n",
            "\n",
            "              precision    recall  f1-score   support\n",
            "\n",
            "           0       0.96      0.86      0.90      2201\n",
            "           1       0.87      0.96      0.91      2143\n",
            "\n",
            "    accuracy                           0.91      4344\n",
            "   macro avg       0.91      0.91      0.91      4344\n",
            "weighted avg       0.91      0.91      0.91      4344\n",
            "\n"
          ]
        }
      ],
      "source": [
        "# Accuracy and Classification Report\n",
        "for i in [lstm_predictions,bilstm_predictions]:\n",
        "    if i is lstm_predictions:\n",
        "        print(\"LSTM MODEL ACCURACY SCORE:\\n\")\n",
        "        print(accuracy_score(y_test,i))\n",
        "        print(\"\\nLSTM CLASSIFICATION REPORT:\\n\")\n",
        "        print(classification_report(y_test,i))\n",
        "    else:\n",
        "        print(\"Bi-LSTM MODEL ACCURACY SCORE:\\n\")\n",
        "        print(accuracy_score(y_test,i))\n",
        "        print(\"\\nBi-LSTM CLASSIFICATION REPORT:\\n\")\n",
        "        print(classification_report(y_test,i))\n"
      ]
    },
    {
      "cell_type": "markdown",
      "metadata": {
        "id": "lR3w_WmH5bWF"
      },
      "source": [
        "## BERT MODEL"
      ]
    },
    {
      "cell_type": "code",
      "execution_count": null,
      "metadata": {
        "id": "_nu6s5nR5Vts"
      },
      "outputs": [],
      "source": [
        "# Tokenizing function for Bert model\n",
        "def tokenize_texts(tokenizer, article, max_length=128):\n",
        "    return tokenizer(\n",
        "        article,\n",
        "        max_length=max_length,\n",
        "        truncation=True,\n",
        "        padding='max_length',\n",
        "        return_tensors='tf'\n",
        "    )"
      ]
    },
    {
      "cell_type": "code",
      "execution_count": null,
      "metadata": {
        "colab": {
          "base_uri": "https://localhost:8080/"
        },
        "id": "ltt-d9Ch5ek2",
        "outputId": "708b1742-43b7-4f88-d6e3-4b9ec159e493"
      },
      "outputs": [
        {
          "name": "stderr",
          "output_type": "stream",
          "text": [
            "Some weights of the PyTorch model were not used when initializing the TF 2.0 model TFBertModel: ['cls.predictions.bias', 'cls.predictions.transform.LayerNorm.bias', 'cls.predictions.transform.dense.bias', 'cls.predictions.transform.dense.weight', 'bert.embeddings.position_ids', 'cls.predictions.transform.LayerNorm.weight', 'cls.seq_relationship.weight', 'cls.seq_relationship.bias']\n",
            "- This IS expected if you are initializing TFBertModel from a PyTorch model trained on another task or with another architecture (e.g. initializing a TFBertForSequenceClassification model from a BertForPreTraining model).\n",
            "- This IS NOT expected if you are initializing TFBertModel from a PyTorch model that you expect to be exactly identical (e.g. initializing a TFBertForSequenceClassification model from a BertForSequenceClassification model).\n",
            "All the weights of TFBertModel were initialized from the PyTorch model.\n",
            "If your task is similar to the task the model of the checkpoint was trained on, you can already use TFBertModel for predictions without further training.\n"
          ]
        }
      ],
      "source": [
        "# Load pre-trained BERT model and tokenizer\n",
        "tokenizer = BertTokenizer.from_pretrained('aubmindlab/bert-base-arabertv2')\n",
        "transformer_model = TFBertModel.from_pretrained('aubmindlab/bert-base-arabertv2')"
      ]
    },
    {
      "cell_type": "code",
      "execution_count": null,
      "metadata": {
        "id": "_g1leX635iQd"
      },
      "outputs": [],
      "source": [
        "# Tokenize train data X_train\n",
        "tokenized_X_train = [tokenize_texts(tokenizer, article) for article in X_train]\n",
        "\n",
        "# Tokenize validation data X_valid\n",
        "tokenized_X_valid = [tokenize_texts(tokenizer, article) for article in X_valid]\n",
        "\n",
        "# Tokenize test data X_test\n",
        "tokenized_X_test = [tokenize_texts(tokenizer, article) for article in X_test]"
      ]
    },
    {
      "cell_type": "code",
      "execution_count": null,
      "metadata": {
        "colab": {
          "base_uri": "https://localhost:8080/"
        },
        "id": "Itef3QL36Pwv",
        "outputId": "a707d9b4-a7c7-4eb7-8906-ed93e5b9243f"
      },
      "outputs": [
        {
          "data": {
            "text/plain": [
              "(13032, 4344, 4344)"
            ]
          },
          "execution_count": 138,
          "metadata": {},
          "output_type": "execute_result"
        }
      ],
      "source": [
        "len(tokenized_X_train),len(tokenized_X_valid),len(tokenized_X_test)"
      ]
    },
    {
      "cell_type": "code",
      "execution_count": null,
      "metadata": {
        "id": "NwI0oCfP6Skx"
      },
      "outputs": [],
      "source": [
        "#TRAINING DATA\n",
        "# Getting the input id tensors from the tokenized list of input ids, token ids and attention mask\n",
        "inputs_train=[i['input_ids'] for i in tokenized_X_train]\n",
        "\n",
        "# Converting the input id tensors to numpy arrays\n",
        "inputs_train_array = np.array([tensor.numpy() for tensor in inputs_train])\n",
        "\n",
        "# Ensuring the shapes of inputs_array are compatible\n",
        "inputs_train_array = inputs_train_array.squeeze(axis=1)\n",
        "\n",
        "# Getting the attention_mask tensors from the tokenized list of input ids, token ids and attention mask\n",
        "inputs_train_att=[i['attention_mask'] for i in tokenized_X_train]\n",
        "\n",
        "# Converting the attention_mask tensors to numpy arrays\n",
        "inputs_train_att_array = np.array([tensor.numpy() for tensor in inputs_train_att])\n",
        "\n",
        "# Ensuring the shapes of inputs_array are compatible\n",
        "inputs_train_att_array = inputs_train_att_array.squeeze(axis=1)\n",
        "\n",
        "# VALIDATION DATA\n",
        "# Getting the input id tensors from the tokenized list of input ids, token ids and attention mask\n",
        "inputs_valid=[i['input_ids'] for i in tokenized_X_valid]\n",
        "\n",
        "# Converting the input id tensors to numpy arrays\n",
        "inputs_valid_array = np.array([tensor.numpy() for tensor in inputs_valid])\n",
        "\n",
        "# Ensuring the shapes of inputs_array are compatible\n",
        "inputs_valid_array = inputs_valid_array.squeeze(axis=1)\n",
        "\n",
        "# Getting the attention_mask tensors from the tokenized list of input ids, token ids and attention mask\n",
        "inputs_valid_att=[i['attention_mask'] for i in tokenized_X_valid]\n",
        "\n",
        "# Converting the attention_mask tensors to numpy arrays\n",
        "inputs_valid_att_array = np.array([tensor.numpy() for tensor in inputs_valid_att])\n",
        "\n",
        "# Ensuring the shapes of inputs_array are compatible\n",
        "inputs_valid_att_array = inputs_valid_att_array.squeeze(axis=1)"
      ]
    },
    {
      "cell_type": "code",
      "execution_count": null,
      "metadata": {
        "id": "jCz-9vkm6Yf_"
      },
      "outputs": [],
      "source": [
        "# TESTING DATA\n",
        "# Getting the input id tensors from the tokenized list of input ids, token ids and attention mask\n",
        "inputs_test=[i['input_ids'] for i in tokenized_X_test]\n",
        "\n",
        "# Converting the input id tensors to numpy arrays\n",
        "inputs_test_array = np.array([tensor.numpy() for tensor in inputs_test])\n",
        "\n",
        "# Ensuring the shapes of inputs_array are compatible\n",
        "inputs_test_array = inputs_test_array.squeeze(axis=1)\n",
        "\n",
        "# Getting the attention_mask tensors from the tokenized list of input ids, token ids and attention mask\n",
        "inputs_test_att=[i['attention_mask'] for i in tokenized_X_test]\n",
        "\n",
        "# Converting the attention_mask tensors to numpy arrays\n",
        "inputs_test_att_array = np.array([tensor.numpy() for tensor in inputs_test_att])\n",
        "\n",
        "# Ensuring the shapes of inputs_array are compatible\n",
        "inputs_test_att_array = inputs_test_att_array.squeeze(axis=1)"
      ]
    },
    {
      "cell_type": "markdown",
      "metadata": {
        "id": "vv5YNnhh6hxi"
      },
      "source": [
        "ARABERT MODEL CONSTRUCTION¶"
      ]
    },
    {
      "cell_type": "code",
      "execution_count": null,
      "metadata": {
        "id": "SdiRgMtI6hRh"
      },
      "outputs": [],
      "source": [
        "# Model class\n",
        "class CustomModel(tf.keras.Model):\n",
        "    def __init__(self, transformer_model):\n",
        "        super(CustomModel, self).__init__()\n",
        "        self.transformer_model = transformer_model\n",
        "        self.dense_layer = tf.keras.layers.Dense(1, activation='sigmoid')\n",
        "\n",
        "    def call(self, inputs):\n",
        "        input_ids, input_mask = inputs\n",
        "        embedding = self.transformer_model(input_ids, attention_mask=input_mask)[0][:, 0, :]\n",
        "        output = self.dense_layer(embedding)\n",
        "        return output"
      ]
    },
    {
      "cell_type": "code",
      "execution_count": null,
      "metadata": {
        "id": "0X9Dc5go6ocN"
      },
      "outputs": [],
      "source": [
        "# Call build_model function which returns the model into model variable\n",
        "model=CustomModel(transformer_model)"
      ]
    },
    {
      "cell_type": "code",
      "execution_count": null,
      "metadata": {
        "id": "8Xvv8ZvN6sFJ"
      },
      "outputs": [],
      "source": [
        "# Initial learning rate\n",
        "learning_rate = 0.001\n",
        "# set optimizer and pass the learning rate\n",
        "optimizer = tf.keras.optimizers.Adam(learning_rate=learning_rate)"
      ]
    },
    {
      "cell_type": "code",
      "execution_count": null,
      "metadata": {
        "id": "l8S2Zhuh6uCO"
      },
      "outputs": [],
      "source": [
        "model.compile(loss='binary_crossentropy', optimizer=optimizer, metrics=['accuracy'])"
      ]
    },
    {
      "cell_type": "code",
      "execution_count": null,
      "metadata": {
        "colab": {
          "base_uri": "https://localhost:8080/"
        },
        "id": "5zeSFo9661aq",
        "outputId": "94def4d1-9b57-44b0-a297-cd03cfb61a0b"
      },
      "outputs": [
        {
          "data": {
            "text/plain": [
              "(13032, 4344, 4344)"
            ]
          },
          "execution_count": 145,
          "metadata": {},
          "output_type": "execute_result"
        }
      ],
      "source": [
        "y_train_np=np.array(y_train)\n",
        "y_valid_np=np.array(y_valid)\n",
        "y_test_np=np.array(y_test)\n",
        "\n",
        "y_train_np.size,y_valid_np.size,y_test_np.size"
      ]
    },
    {
      "cell_type": "code",
      "execution_count": null,
      "metadata": {
        "colab": {
          "background_save": true,
          "base_uri": "https://localhost:8080/"
        },
        "id": "p7L2jRUU7AYM",
        "outputId": "3a48a4a8-d432-48c9-dd61-230f13359b3d"
      },
      "outputs": [
        {
          "name": "stdout",
          "output_type": "stream",
          "text": [
            "Epoch 1/5\n",
            "408/408 - 7258s - 18s/step - accuracy: 0.9210 - loss: 0.2132 - val_accuracy: 0.9369 - val_loss: 0.1549\n",
            "Epoch 2/5\n",
            "408/408 - 7218s - 18s/step - accuracy: 0.9420 - loss: 0.1454 - val_accuracy: 0.9563 - val_loss: 0.1262\n",
            "Epoch 3/5\n",
            "408/408 - 7230s - 18s/step - accuracy: 0.9533 - loss: 0.1198 - val_accuracy: 0.9622 - val_loss: 0.1076\n",
            "Epoch 4/5\n",
            "408/408 - 7257s - 18s/step - accuracy: 0.9599 - loss: 0.1039 - val_accuracy: 0.9641 - val_loss: 0.0945\n",
            "Epoch 5/5\n",
            "408/408 - 7227s - 18s/step - accuracy: 0.9657 - loss: 0.0933 - val_accuracy: 0.9719 - val_loss: 0.0867\n"
          ]
        }
      ],
      "source": [
        "# Train model\n",
        "history=model.fit([inputs_train_array, inputs_train_att_array],\n",
        "          y_train_np,\n",
        "          epochs=5,\n",
        "          batch_size=32,\n",
        "          validation_data=([inputs_valid_array, inputs_valid_att_array],y_valid_np),\n",
        "          verbose=2)"
      ]
    },
    {
      "cell_type": "code",
      "execution_count": null,
      "metadata": {
        "colab": {
          "background_save": true
        },
        "id": "WgvdkZDr7JOt",
        "outputId": "ed483d11-f9ba-4ddb-b214-071b71034b16"
      },
      "outputs": [
        {
          "data": {
            "image/png": "[encoded data removed]",
            "text/plain": [
              "<Figure size 1200x600 with 2 Axes>"
            ]
          },
          "metadata": {},
          "output_type": "display_data"
        }
      ],
      "source": [
        "# Plots training and validation loss and accuracy history for better analysis\n",
        "def plot_history(history):\n",
        "    # Get training and validation loss\n",
        "    loss = history.history['loss']\n",
        "    val_loss = history.history['val_loss']\n",
        "\n",
        "    # Get training and validation accuracy\n",
        "    acc = history.history['accuracy']\n",
        "    val_acc = history.history['val_accuracy']\n",
        "\n",
        "    # Plot training and validation loss\n",
        "    plt.figure(figsize=(12, 6))\n",
        "    plt.subplot(1, 2, 1)\n",
        "    plt.plot(loss, label='Training Loss')\n",
        "    plt.plot(val_loss, label='Validation Loss')\n",
        "    plt.title('Training and Validation Loss')\n",
        "    plt.xlabel('Epoch')\n",
        "    plt.ylabel('Loss')\n",
        "    plt.legend()\n",
        "\n",
        "    # Plot training and validation accuracy\n",
        "    plt.subplot(1, 2, 2)\n",
        "    plt.plot(acc, label='Training Accuracy')\n",
        "    plt.plot(val_acc, label='Validation Accuracy')\n",
        "    plt.title('Training and Validation Accuracy')\n",
        "    plt.xlabel('Epoch')\n",
        "    plt.ylabel('Accuracy')\n",
        "    plt.legend()\n",
        "\n",
        "    plt.tight_layout()\n",
        "    plt.show()\n",
        "\n",
        "# Assuming you have trained your model and stored the history in a variable named 'history'\n",
        "plot_history(history)"
      ]
    },
    {
      "cell_type": "markdown",
      "metadata": {
        "id": "HQ9Y_Jdd7V7Z"
      },
      "source": [
        "Arab BERT model Testing"
      ]
    },
    {
      "cell_type": "code",
      "execution_count": null,
      "metadata": {
        "colab": {
          "background_save": true
        },
        "id": "gCY2NIM17O-W",
        "outputId": "d3389731-5aec-45a4-9e4a-6af7000ce779"
      },
      "outputs": [
        {
          "name": "stdout",
          "output_type": "stream",
          "text": [
            "\u001b[1m136/136\u001b[0m \u001b[32m━━━━━━━━━━━━━━━━━━━━\u001b[0m\u001b[37m\u001b[0m \u001b[1m1800s\u001b[0m 13s/step\n"
          ]
        }
      ],
      "source": [
        "# Making Predicitons on the test data\n",
        "arabert_predicitons=model.predict([inputs_test_array, inputs_test_att_array])"
      ]
    },
    {
      "cell_type": "code",
      "execution_count": null,
      "metadata": {
        "colab": {
          "background_save": true
        },
        "id": "A240SUcz7ZKO"
      },
      "outputs": [],
      "source": [
        "# Round off predcitons to single intergers (0 or 1)\n",
        "arabert_predicitons=arabert_predicitons.round()"
      ]
    },
    {
      "cell_type": "markdown",
      "metadata": {
        "id": "cUrRX6cs7c-z"
      },
      "source": [
        "ARABERT MODEL EVALUATION METRICS"
      ]
    },
    {
      "cell_type": "code",
      "execution_count": null,
      "metadata": {
        "colab": {
          "background_save": true
        },
        "id": "48mzDkOr7bGo",
        "outputId": "c30cc5b6-1cac-4f85-ee89-bc90e819fbe0"
      },
      "outputs": [
        {
          "name": "stdout",
          "output_type": "stream",
          "text": [
            "Precision: 0.9717779868297272\n",
            "Recall: 0.9640690620625292\n",
            "F1-score: 0.9679081752166784\n"
          ]
        }
      ],
      "source": [
        "# Calculate precision, recall, and f1-score\n",
        "precision = precision_score(y_test, arabert_predicitons)\n",
        "recall = recall_score(y_test, arabert_predicitons)\n",
        "f1 = f1_score(y_test, arabert_predicitons)\n",
        "\n",
        "print(\"Precision:\", precision)\n",
        "print(\"Recall:\", recall)\n",
        "print(\"F1-score:\", f1)"
      ]
    },
    {
      "cell_type": "code",
      "execution_count": null,
      "metadata": {
        "colab": {
          "background_save": true
        },
        "id": "2rHRvW9o7fmr",
        "outputId": "f8376d32-5aba-4544-9898-f693073fd62d"
      },
      "outputs": [
        {
          "data": {
            "image/png": "[encoded data removed]",
            "text/plain": [
              "<Figure size 800x600 with 2 Axes>"
            ]
          },
          "metadata": {},
          "output_type": "display_data"
        }
      ],
      "source": [
        "# bert confusion matrix\n",
        "cm_bert= confusion_matrix(y_test,arabert_predicitons)\n",
        "\n",
        "# Define labels for the matrix\n",
        "labels = ['True Negative', 'False Positive', 'False Negative', 'True Positive']\n",
        "categories = ['0', '1']\n",
        "\n",
        "\n",
        "# Plot confusion matrix\n",
        "sns.set(font_scale=1.4) # for label size\n",
        "plt.figure(figsize=(8, 6))\n",
        "sns.heatmap(cm_bert, annot=True, fmt='g', cmap='Blues', xticklabels=categories, yticklabels=categories)\n",
        "plt.xlabel('Predicted labels')\n",
        "plt.ylabel('True labels')\n",
        "plt.title('ARABERT Confusion Matrix')\n",
        "plt.show()"
      ]
    },
    {
      "cell_type": "code",
      "execution_count": null,
      "metadata": {
        "colab": {
          "background_save": true
        },
        "id": "gDJapR5F7zeV",
        "outputId": "1a9ad19f-4ffb-43c3-dc1d-e977ca44e71c"
      },
      "outputs": [
        {
          "name": "stdout",
          "output_type": "stream",
          "text": [
            "AraBert MODEL ACCURACY SCORE:\n",
            "\n",
            "0.9684622467771639\n",
            "\n",
            "AraBert CLASSIFICATION REPORT:\n",
            "\n",
            "              precision    recall  f1-score   support\n",
            "\n",
            "           0       0.97      0.97      0.97      2201\n",
            "           1       0.97      0.96      0.97      2143\n",
            "\n",
            "    accuracy                           0.97      4344\n",
            "   macro avg       0.97      0.97      0.97      4344\n",
            "weighted avg       0.97      0.97      0.97      4344\n",
            "\n"
          ]
        }
      ],
      "source": [
        "# Accuracy and Classification Report\n",
        "print(\"AraBert MODEL ACCURACY SCORE:\\n\")\n",
        "print(accuracy_score(y_test,arabert_predicitons))\n",
        "print(\"\\nAraBert CLASSIFICATION REPORT:\\n\")\n",
        "print(classification_report(y_test,arabert_predicitons))"
      ]
    },
    {
      "cell_type": "code",
      "execution_count": null,
      "metadata": {
        "colab": {
          "background_save": true
        },
        "id": "xmMsxq1j72t8"
      },
      "outputs": [],
      "source": [
        "\n"
      ]
    },
    {
      "cell_type": "code",
      "execution_count": null,
      "metadata": {
        "id": "iV92L_P4s7j3"
      },
      "outputs": [],
      "source": []
    }
  ],
  "metadata": {
    "colab": {
      "machine_shape": "hm",
      "provenance": [],
      "authorship_tag": "ABX9TyPjVovflcWgcq5Xzt8qN2+3",
      "include_colab_link": true
    },
    "kernelspec": {
      "display_name": "Python 3",
      "name": "python3"
    },
    "language_info": {
      "name": "python"
    }
  },
  "nbformat": 4,
  "nbformat_minor": 0
}